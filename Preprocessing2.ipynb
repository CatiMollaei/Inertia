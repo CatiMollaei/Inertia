{
 "cells": [
  {
   "cell_type": "code",
   "execution_count": null,
   "metadata": {
    "colab": {
     "base_uri": "https://localhost:8080/"
    },
    "executionInfo": {
     "elapsed": 3631,
     "status": "ok",
     "timestamp": 1693071297918,
     "user": {
      "displayName": "Mohammad AzariJafari",
      "userId": "06893572588162759360"
     },
     "user_tz": -210
    },
    "id": "KrEyygSg3qj5",
    "outputId": "0048ed91-0920-4384-8bc4-8e40be42eb8c"
   },
   "outputs": [],
   "source": [
    "import pandas as pd\n",
    "import re # Regular Expressions - searching, matching, and manipulating strings in text\n",
    "import numpy as np\n",
    "from nltk.stem.snowball import SnowballStemmer # word stemming\n",
    "import os # operating system-related operations\n",
    "import string\n",
    "import nltk\n",
    "from nltk.tokenize import word_tokenize\n",
    "from nltk.corpus import stopwords\n",
    "from nltk.stem import WordNetLemmatizer # Lemmatization\n",
    "nltk.download('stopwords')  # Download the stopwords resources\n",
    "nltk.download('wordnet')  # Download the wordnet resources - semantic information and similarity of words\n",
    "nltk.download('punkt')  # Download the punkt resources for tokenization"
   ]
  },
  {
   "cell_type": "code",
   "execution_count": null,
   "metadata": {
    "colab": {
     "base_uri": "https://localhost:8080/"
    },
    "executionInfo": {
     "elapsed": 4349,
     "status": "ok",
     "timestamp": 1693071302253,
     "user": {
      "displayName": "Mohammad AzariJafari",
      "userId": "06893572588162759360"
     },
     "user_tz": -210
    },
    "id": "ec5J8aHk-j4U",
    "outputId": "c0fab89e-983b-43ae-e63f-97bea3c278d3"
   },
   "outputs": [
    {
     "name": "stderr",
     "output_type": "stream",
     "text": [
      "<ipython-input-3-50cfb03c0e19>:1: DtypeWarning: Columns (0,3,5,7,8,9,10,11,12,13,14,15,16,17,18,19,20,21,22,23,24,25,26,27,28,29,30,31,32,33,34,35,36,37,38,39,40,41,42,43,44,45,46,47,48,49,50,51,52,53,54,55,56,57,58,59,60,61,62,63,64,65,66,67,68,69,70,71,72,73,74,75,76,77,78,79,80,81,82,83,84,85,86,87,88,89,90,91,92,93,94,95,96,97,98,99,100,101,102,103,104,105,106,107,108,109,110,111,112,113,114,115,116,117,118) have mixed types. Specify dtype option on import or set low_memory=False.\n",
      "  df = pd.read_csv(\"/content/drive/MyDrive/Mollaei Topic Modelling/data/notes_03012022.csv\")\n"
     ]
    }
   ],
   "source": [
    "df = pd.read_csv(\"/tmarkossian/212900/cati/notes_03012022.csv\")"
   ]
  },
  {
   "cell_type": "code",
   "execution_count": null,
   "metadata": {
    "colab": {
     "base_uri": "https://localhost:8080/"
    },
    "executionInfo": {
     "elapsed": 28,
     "status": "ok",
     "timestamp": 1693071302255,
     "user": {
      "displayName": "Mohammad AzariJafari",
      "userId": "06893572588162759360"
     },
     "user_tz": -210
    },
    "id": "TBR30xdaWVVS",
    "outputId": "783b2e07-167a-496e-d4ff-6cd3a563d335",
    "scrolled": true
   },
   "outputs": [
    {
     "name": "stdout",
     "output_type": "stream",
     "text": [
      "179 ['i', 'me', 'my', 'myself', 'we', 'our', 'ours', 'ourselves', 'you', \"you're\", \"you've\", \"you'll\", \"you'd\", 'your', 'yours', 'yourself', 'yourselves', 'he', 'him', 'his', 'himself', 'she', \"she's\", 'her', 'hers', 'herself', 'it', \"it's\", 'its', 'itself', 'they', 'them', 'their', 'theirs', 'themselves', 'what', 'which', 'who', 'whom', 'this', 'that', \"that'll\", 'these', 'those', 'am', 'is', 'are', 'was', 'were', 'be', 'been', 'being', 'have', 'has', 'had', 'having', 'do', 'does', 'did', 'doing', 'a', 'an', 'the', 'and', 'but', 'if', 'or', 'because', 'as', 'until', 'while', 'of', 'at', 'by', 'for', 'with', 'about', 'against', 'between', 'into', 'through', 'during', 'before', 'after', 'above', 'below', 'to', 'from', 'up', 'down', 'in', 'out', 'on', 'off', 'over', 'under', 'again', 'further', 'then', 'once', 'here', 'there', 'when', 'where', 'why', 'how', 'all', 'any', 'both', 'each', 'few', 'more', 'most', 'other', 'some', 'such', 'no', 'nor', 'not', 'only', 'own', 'same', 'so', 'than', 'too', 'very', 's', 't', 'can', 'will', 'just', 'don', \"don't\", 'should', \"should've\", 'now', 'd', 'll', 'm', 'o', 're', 've', 'y', 'ain', 'aren', \"aren't\", 'couldn', \"couldn't\", 'didn', \"didn't\", 'doesn', \"doesn't\", 'hadn', \"hadn't\", 'hasn', \"hasn't\", 'haven', \"haven't\", 'isn', \"isn't\", 'ma', 'mightn', \"mightn't\", 'mustn', \"mustn't\", 'needn', \"needn't\", 'shan', \"shan't\", 'shouldn', \"shouldn't\", 'wasn', \"wasn't\", 'weren', \"weren't\", 'won', \"won't\", 'wouldn', \"wouldn't\"]\n"
     ]
    }
   ],
   "source": [
    "s1 = stopwords.words('english')\n",
    "print(len(s1), s1)"
   ]
  },
  {
   "cell_type": "code",
   "execution_count": null,
   "metadata": {
    "id": "ybWUidz0Zm8r"
   },
   "outputs": [],
   "source": []
  },
  {
   "cell_type": "code",
   "execution_count": null,
   "metadata": {
    "id": "p5wTxmhAa6nR"
   },
   "outputs": [],
   "source": [
    "with open(\"gist_stopwords.txt\", \"r\") as fp:\n",
    "    content = fp.read()\n",
    "    s2 = content.split(\",\")"
   ]
  },
  {
   "cell_type": "code",
   "execution_count": null,
   "metadata": {
    "colab": {
     "base_uri": "https://localhost:8080/"
    },
    "executionInfo": {
     "elapsed": 31,
     "status": "ok",
     "timestamp": 1693071302731,
     "user": {
      "displayName": "Mohammad AzariJafari",
      "userId": "06893572588162759360"
     },
     "user_tz": -210
    },
    "id": "N86hgv51bDti",
    "outputId": "b855f7f1-c4eb-4ab3-f61f-97c639ca8d1c"
   },
   "outputs": [
    {
     "name": "stdout",
     "output_type": "stream",
     "text": [
      "1160 ['0o', '0s', '3a', '3b', '3d', '6b', '6o', 'a', 'a1', 'a2', 'a3', 'a4', 'ab', 'able', 'about', 'above', 'abst', 'ac', 'accordance', 'according', 'accordingly', 'across', 'act', 'actually', 'ad', 'added', 'adj', 'ae', 'af', 'affected', 'affecting', 'affects', 'after', 'afterwards', 'ag', 'again', 'against', 'ah', 'ain', \"ain't\", 'aj', 'al', 'all', 'allow', 'allows', 'almost', 'alone', 'along', 'already', 'also', 'although', 'always', 'am', 'among', 'amongst', 'amoungst', 'amount', 'an', 'and', 'announce', 'another', 'any', 'anybody', 'anyhow', 'anymore', 'anyone', 'anything', 'anyway', 'anyways', 'anywhere', 'ao', 'ap', 'apart', 'apparently', 'appear', 'appreciate', 'appropriate', 'approximately', 'ar', 'are', 'aren', 'arent', \"aren't\", 'arise', 'around', 'as', \"a's\", 'aside', 'ask', 'asking', 'associated', 'at', 'au', 'auth', 'av', 'available', 'aw', 'away', 'awfully', 'ax', 'ay', 'az', 'b', 'b1', 'b2', 'b3', 'ba', 'back', 'bc', 'bd', 'be', 'became', 'because', 'become', 'becomes', 'becoming', 'been', 'before', 'beforehand', 'begin', 'beginning', 'beginnings', 'begins', 'behind', 'being', 'believe', 'below', 'beside', 'besides', 'best', 'better', 'between', 'beyond', 'bi', 'bill', 'biol', 'bj', 'bk', 'bl', 'bn', 'both', 'bottom', 'bp', 'br', 'brief', 'briefly', 'bs', 'bt', 'bu', 'but', 'bx', 'by', 'c', 'c1', 'c2', 'c3', 'ca', 'call', 'came', 'can', 'cannot', 'cant', \"can't\", 'cause', 'causes', 'cc', 'cd', 'ce', 'certain', 'certainly', 'cf', 'cg', 'ch', 'changes', 'ci', 'cit', 'cj', 'cl', 'clearly', 'cm', \"c'mon\", 'cn', 'co', 'com', 'come', 'comes', 'con', 'concerning', 'consequently', 'consider', 'considering', 'contain', 'containing', 'contains', 'corresponding', 'could', 'couldn', 'couldnt', \"couldn't\", 'course', 'cp', 'cq', 'cr', 'cry', 'cs', \"c's\", 'ct', 'cu', 'currently', 'cv', 'cx', 'cy', 'cz', 'd', 'd2', 'da', 'date', 'dc', 'dd', 'de', 'definitely', 'describe', 'described', 'despite', 'detail', 'df', 'di', 'did', 'didn', \"didn't\", 'different', 'dj', 'dk', 'dl', 'do', 'does', 'doesn', \"doesn't\", 'doing', 'don', 'done', \"don't\", 'down', 'downwards', 'dp', 'dr', 'ds', 'dt', 'du', 'due', 'during', 'dx', 'dy', 'e', 'e2', 'e3', 'ea', 'each', 'ec', 'ed', 'edu', 'ee', 'ef', 'effect', 'eg', 'ei', 'eight', 'eighty', 'either', 'ej', 'el', 'eleven', 'else', 'elsewhere', 'em', 'empty', 'en', 'end', 'ending', 'enough', 'entirely', 'eo', 'ep', 'eq', 'er', 'es', 'especially', 'est', 'et', 'et-al', 'etc', 'eu', 'ev', 'even', 'ever', 'every', 'everybody', 'everyone', 'everything', 'everywhere', 'ex', 'exactly', 'example', 'except', 'ey', 'f', 'f2', 'fa', 'far', 'fc', 'few', 'ff', 'fi', 'fifteen', 'fifth', 'fify', 'fill', 'find', 'fire', 'first', 'five', 'fix', 'fj', 'fl', 'fn', 'fo', 'followed', 'following', 'follows', 'for', 'former', 'formerly', 'forth', 'forty', 'found', 'four', 'fr', 'from', 'front', 'fs', 'ft', 'fu', 'full', 'further', 'furthermore', 'fy', 'g', 'ga', 'gave', 'ge', 'get', 'gets', 'getting', 'gi', 'give', 'given', 'gives', 'giving', 'gj', 'gl', 'go', 'goes', 'going', 'gone', 'got', 'gotten', 'gr', 'greetings', 'gs', 'gy', 'h', 'h2', 'h3', 'had', 'hadn', \"hadn't\", 'happens', 'hardly', 'has', 'hasn', 'hasnt', \"hasn't\", 'have', 'haven', \"haven't\", 'having', 'he', 'hed', \"he'd\", \"he'll\", 'hello', 'help', 'hence', 'her', 'here', 'hereafter', 'hereby', 'herein', 'heres', \"here's\", 'hereupon', 'hers', 'herself', 'hes', \"he's\", 'hh', 'hi', 'hid', 'him', 'himself', 'his', 'hither', 'hj', 'ho', 'home', 'hopefully', 'how', 'howbeit', 'however', \"how's\", 'hr', 'hs', 'http', 'hu', 'hundred', 'hy', 'i', 'i2', 'i3', 'i4', 'i6', 'i7', 'i8', 'ia', 'ib', 'ibid', 'ic', 'id', \"i'd\", 'ie', 'if', 'ig', 'ignored', 'ih', 'ii', 'ij', 'il', \"i'll\", 'im', \"i'm\", 'immediate', 'immediately', 'importance', 'important', 'in', 'inasmuch', 'inc', 'indeed', 'index', 'indicate', 'indicated', 'indicates', 'information', 'inner', 'insofar', 'instead', 'interest', 'into', 'invention', 'inward', 'io', 'ip', 'iq', 'ir', 'is', 'isn', \"isn't\", 'it', 'itd', \"it'd\", \"it'll\", 'its', \"it's\", 'itself', 'iv', \"i've\", 'ix', 'iy', 'iz', 'j', 'jj', 'jr', 'js', 'jt', 'ju', 'just', 'k', 'ke', 'keep', 'keeps', 'kept', 'kg', 'kj', 'km', 'know', 'known', 'knows', 'ko', 'l', 'l2', 'la', 'largely', 'last', 'lately', 'later', 'latter', 'latterly', 'lb', 'lc', 'le', 'least', 'les', 'less', 'lest', 'let', 'lets', \"let's\", 'lf', 'like', 'liked', 'likely', 'line', 'little', 'lj', 'll', 'll', 'ln', 'lo', 'look', 'looking', 'looks', 'los', 'lr', 'ls', 'lt', 'ltd', 'm', 'm2', 'ma', 'made', 'mainly', 'make', 'makes', 'many', 'may', 'maybe', 'me', 'mean', 'means', 'meantime', 'meanwhile', 'merely', 'mg', 'might', 'mightn', \"mightn't\", 'mill', 'million', 'mine', 'miss', 'ml', 'mn', 'mo', 'more', 'moreover', 'most', 'mostly', 'move', 'mr', 'mrs', 'ms', 'mt', 'mu', 'much', 'mug', 'must', 'mustn', \"mustn't\", 'my', 'myself', 'n', 'n2', 'na', 'name', 'namely', 'nay', 'nc', 'nd', 'ne', 'near', 'nearly', 'necessarily', 'necessary', 'need', 'needn', \"needn't\", 'needs', 'neither', 'never', 'nevertheless', 'new', 'next', 'ng', 'ni', 'nine', 'ninety', 'nj', 'nl', 'nn', 'no', 'nobody', 'non', 'none', 'nonetheless', 'noone', 'nor', 'normally', 'nos', 'not', 'noted', 'nothing', 'novel', 'now', 'nowhere', 'nr', 'ns', 'nt', 'ny', 'o', 'oa', 'ob', 'obtain', 'obtained', 'obviously', 'oc', 'od', 'of', 'off', 'often', 'og', 'oh', 'oi', 'oj', 'ok', 'okay', 'ol', 'old', 'om', 'omitted', 'on', 'once', 'one', 'ones', 'only', 'onto', 'oo', 'op', 'oq', 'or', 'ord', 'os', 'ot', 'other', 'others', 'otherwise', 'ou', 'ought', 'our', 'ours', 'ourselves', 'out', 'outside', 'over', 'overall', 'ow', 'owing', 'own', 'ox', 'oz', 'p', 'p1', 'p2', 'p3', 'page', 'pagecount', 'pages', 'par', 'part', 'particular', 'particularly', 'pas', 'past', 'pc', 'pd', 'pe', 'per', 'perhaps', 'pf', 'ph', 'pi', 'pj', 'pk', 'pl', 'placed', 'please', 'plus', 'pm', 'pn', 'po', 'poorly', 'possible', 'possibly', 'potentially', 'pp', 'pq', 'pr', 'predominantly', 'present', 'presumably', 'previously', 'primarily', 'probably', 'promptly', 'proud', 'provides', 'ps', 'pt', 'pu', 'put', 'py', 'q', 'qj', 'qu', 'que', 'quickly', 'quite', 'qv', 'r', 'r2', 'ra', 'ran', 'rather', 'rc', 'rd', 're', 'readily', 'really', 'reasonably', 'recent', 'recently', 'ref', 'refs', 'regarding', 'regardless', 'regards', 'related', 'relatively', 'research', 'research-articl', 'respectively', 'resulted', 'resulting', 'results', 'rf', 'rh', 'ri', 'right', 'rj', 'rl', 'rm', 'rn', 'ro', 'rq', 'rr', 'rs', 'rt', 'ru', 'run', 'rv', 'ry', 's', 's2', 'sa', 'said', 'same', 'saw', 'say', 'saying', 'says', 'sc', 'sd', 'se', 'sec', 'second', 'secondly', 'section', 'see', 'seeing', 'seem', 'seemed', 'seeming', 'seems', 'seen', 'self', 'selves', 'sensible', 'sent', 'serious', 'seriously', 'seven', 'several', 'sf', 'shall', 'shan', \"shan't\", 'she', 'shed', \"she'd\", \"she'll\", 'shes', \"she's\", 'should', 'shouldn', \"shouldn't\", \"should've\", 'show', 'showed', 'shown', 'showns', 'shows', 'si', 'side', 'significant', 'significantly', 'similar', 'similarly', 'since', 'sincere', 'six', 'sixty', 'sj', 'sl', 'slightly', 'sm', 'sn', 'so', 'some', 'somebody', 'somehow', 'someone', 'somethan', 'something', 'sometime', 'sometimes', 'somewhat', 'somewhere', 'soon', 'sorry', 'sp', 'specifically', 'specified', 'specify', 'specifying', 'sq', 'sr', 'ss', 'st', 'still', 'stop', 'strongly', 'sub', 'substantially', 'successfully', 'such', 'sufficiently', 'suggest', 'sup', 'sure', 'sy', 'system', 'sz', 't', 't1', 't2', 't3', 'take', 'taken', 'taking', 'tb', 'tc', 'td', 'te', 'tell', 'ten', 'tends', 'tf', 'th', 'than', 'thank', 'thanks', 'thanx', 'that', \"that'll\", 'thats', \"that's\", \"that've\", 'the', 'their', 'theirs', 'them', 'themselves', 'then', 'thence', 'there', 'thereafter', 'thereby', 'thered', 'therefore', 'therein', \"there'll\", 'thereof', 'therere', 'theres', \"there's\", 'thereto', 'thereupon', \"there've\", 'these', 'they', 'theyd', \"they'd\", \"they'll\", 'theyre', \"they're\", \"they've\", 'thickv', 'thin', 'think', 'third', 'this', 'thorough', 'thoroughly', 'those', 'thou', 'though', 'thoughh', 'thousand', 'three', 'throug', 'through', 'throughout', 'thru', 'thus', 'ti', 'til', 'tip', 'tj', 'tl', 'tm', 'tn', 'to', 'together', 'too', 'took', 'top', 'toward', 'towards', 'tp', 'tq', 'tr', 'tried', 'tries', 'truly', 'try', 'trying', 'ts', \"t's\", 'tt', 'tv', 'twelve', 'twenty', 'twice', 'two', 'tx', 'u', 'u201d', 'ue', 'ui', 'uj', 'uk', 'um', 'un', 'under', 'unfortunately', 'unless', 'unlike', 'unlikely', 'until', 'unto', 'uo', 'up', 'upon', 'ups', 'ur', 'us', 'use', 'used', 'useful', 'usefully', 'usefulness', 'uses', 'using', 'usually', 'ut', 'v', 'va', 'value', 'various', 'vd', 've', 've', 'very', 'via', 'viz', 'vj', 'vo', 'vol', 'vols', 'volumtype', 'vq', 'vs', 'vt', 'vu', 'w', 'wa', 'want', 'wants', 'was', 'wasn', 'wasnt', \"wasn't\", 'way', 'we', 'wed', \"we'd\", 'welcome', 'well', \"we'll\", 'well-b', 'went', 'were', \"we're\", 'weren', 'werent', \"weren't\", \"we've\", 'what', 'whatever', \"what'll\", 'whats', \"what's\", 'when', 'whence', 'whenever', \"when's\", 'where', 'whereafter', 'whereas', 'whereby', 'wherein', 'wheres', \"where's\", 'whereupon', 'wherever', 'whether', 'which', 'while', 'whim', 'whither', 'who', 'whod', 'whoever', 'whole', \"who'll\", 'whom', 'whomever', 'whos', \"who's\", 'whose', 'why', \"why's\", 'wi', 'widely', 'will', 'willing', 'wish', 'with', 'within', 'without', 'wo', 'won', 'wonder', 'wont', \"won't\", 'words', 'world', 'would', 'wouldn', 'wouldnt', \"wouldn't\", 'www', 'x', 'x1', 'x2', 'x3', 'xf', 'xi', 'xj', 'xk', 'xl', 'xn', 'xo', 'xs', 'xt', 'xv', 'xx', 'y', 'y2', 'yes', 'yet', 'yj', 'yl', 'you', 'youd', \"you'd\", \"you'll\", 'your', 'youre', \"you're\", 'yours', 'yourself', 'yourselves', \"you've\", 'yr', 'ys', 'yt', 'z', 'zero', 'zi', 'zz']\n"
     ]
    }
   ],
   "source": [
    "print(len(s2), s2)"
   ]
  },
  {
   "cell_type": "code",
   "execution_count": null,
   "metadata": {
    "colab": {
     "base_uri": "https://localhost:8080/"
    },
    "executionInfo": {
     "elapsed": 10,
     "status": "ok",
     "timestamp": 1693071306228,
     "user": {
      "displayName": "Mohammad AzariJafari",
      "userId": "06893572588162759360"
     },
     "user_tz": -210
    },
    "id": "2AN1-xxpbH07",
    "outputId": "f48dd916-e341-4b64-ae48-84660e90beb3"
   },
   "outputs": [
    {
     "data": {
      "text/plain": [
       "(False, True)"
      ]
     },
     "execution_count": 8,
     "metadata": {},
     "output_type": "execute_result"
    }
   ],
   "source": [
    "'date' in s1, 'date' in s2"
   ]
  },
  {
   "cell_type": "code",
   "execution_count": null,
   "metadata": {
    "colab": {
     "base_uri": "https://localhost:8080/"
    },
    "executionInfo": {
     "elapsed": 328,
     "status": "ok",
     "timestamp": 1693071326132,
     "user": {
      "displayName": "Mohammad AzariJafari",
      "userId": "06893572588162759360"
     },
     "user_tz": -210
    },
    "id": "uEmbTtAwb7qY",
    "outputId": "85cb64af-2dd1-42ae-8186-f811bb257cc3"
   },
   "outputs": [
    {
     "data": {
      "text/plain": [
       "(1339, 1158)"
      ]
     },
     "execution_count": 9,
     "metadata": {},
     "output_type": "execute_result"
    }
   ],
   "source": [
    "len(s1 + s2), len(set(s1 + s2))"
   ]
  },
  {
   "cell_type": "code",
   "execution_count": null,
   "metadata": {
    "id": "XqARdkoDoolF"
   },
   "outputs": [],
   "source": [
    "def text_lowercase(text):\n",
    "    return text.lower()\n",
    "\n",
    "# Cleaning the text from emails, symbols, and web links\n",
    "def remove_urls(text):\n",
    "    new_text = ' '.join(re.sub(\"(@[A-Za-z0-9]+)|([^0-9A-Za-z \\t])|(\\w+:\\/\\/\\S+)\",\" \",text).split())\n",
    "    return new_text\n",
    "\n",
    "def remove_numbers(text):\n",
    "    result = re.sub(r'\\d+', '', text)\n",
    "    return result\n",
    "\n",
    "# Cleaning punctuation marks from the text - retaining only letters and numbers.\n",
    "def remove_punctuation(text):\n",
    "    translator = str.maketrans('', '', string.punctuation)\n",
    "    return text.translate(translator)\n",
    "\n",
    "def tokenize(text):\n",
    "    text = word_tokenize(text)\n",
    "    return text\n",
    "\n",
    "stop_words = set(s1 + s2)\n",
    "def remove_stopwords(text):\n",
    "    text = [i for i in text if not i in stop_words]\n",
    "    return text\n",
    "\n",
    "lemmatizer = WordNetLemmatizer()\n",
    "def lemmatize(text):\n",
    "    text = [lemmatizer.lemmatize(token) for token in text]\n",
    "    return text\n",
    "\n",
    "def preprocessing(text):\n",
    "    text = text_lowercase(text)\n",
    "    text = remove_urls(text)\n",
    "    text = remove_numbers(text)\n",
    "    text = remove_punctuation(text)\n",
    "    text = tokenize(text)\n",
    "    text = remove_stopwords(text)\n",
    "    text = lemmatize(text)\n",
    "    text = ' '.join(text)\n",
    "    return text"
   ]
  },
  {
   "cell_type": "code",
   "execution_count": null,
   "metadata": {
    "id": "60-cq5dj_Rge"
   },
   "outputs": [],
   "source": [
    "entries = list(df['txt'].values)"
   ]
  },
  {
   "cell_type": "code",
   "execution_count": null,
   "metadata": {
    "colab": {
     "base_uri": "https://localhost:8080/"
    },
    "executionInfo": {
     "elapsed": 8,
     "status": "ok",
     "timestamp": 1693072938355,
     "user": {
      "displayName": "Mohammad AzariJafari",
      "userId": "06893572588162759360"
     },
     "user_tz": -210
    },
    "id": "jZlmgqFf_mNy",
    "outputId": "04f73c25-663d-4dbd-f17f-0c9addc32c23"
   },
   "outputs": [
    {
     "data": {
      "text/plain": [
       "33412"
      ]
     },
     "execution_count": 12,
     "metadata": {},
     "output_type": "execute_result"
    }
   ],
   "source": [
    "len(entries)"
   ]
  },
  {
   "cell_type": "code",
   "execution_count": null,
   "metadata": {
    "id": "68vVus9pAspi"
   },
   "outputs": [],
   "source": [
    "# The name \"tqdm\" stands for \"taqaddum\" which means \"progress\" in Arabic - Used to create progress bars\n",
    "from tqdm import tqdm"
   ]
  },
  {
   "cell_type": "code",
   "execution_count": null,
   "metadata": {
    "colab": {
     "base_uri": "https://localhost:8080/"
    },
    "executionInfo": {
     "elapsed": 192827,
     "status": "ok",
     "timestamp": 1693073142883,
     "user": {
      "displayName": "Mohammad AzariJafari",
      "userId": "06893572588162759360"
     },
     "user_tz": -210
    },
    "id": "_F9_kkaSzVxF",
    "outputId": "a7128098-31ec-409f-829a-6a07e8393011"
   },
   "outputs": [
    {
     "name": "stderr",
     "output_type": "stream",
     "text": [
      "100%|██████████| 33412/33412 [03:12<00:00, 173.50it/s]\n"
     ]
    }
   ],
   "source": [
    "count =0\n",
    "documents = []\n",
    "\n",
    "for entry in tqdm(entries):\n",
    "  count += 1\n",
    "  documents.append(preprocessing(str(entry)))"
   ]
  },
  {
   "cell_type": "code",
   "execution_count": null,
   "metadata": {
    "id": "Xb0rhQD0Y-t4"
   },
   "outputs": [],
   "source": [
    "import pickle\n",
    "with open(kl', 'wb') as f:\n",
    "   pickle.dump(documents, f)"
   ]
  },
  {
   "cell_type": "code",
   "execution_count": null,
   "metadata": {
    "colab": {
     "base_uri": "https://localhost:8080/",
     "height": 174
    },
    "executionInfo": {
     "elapsed": 319,
     "status": "ok",
     "timestamp": 1693047237909,
     "user": {
      "displayName": "Mohammad AzariJafari",
      "userId": "06893572588162759360"
     },
     "user_tz": -210
    },
    "id": "bMHBTVVyB92w",
    "outputId": "e4c71a7d-e9ac-4ad8-f7e8-85214063531a"
   },
   "outputs": [
    {
     "data": {
      "application/vnd.google.colaboratory.intrinsic+json": {
       "type": "string"
      },
      "text/plain": [
       "\"Telehealth Visit     Telehealth format: Synchronous Audio and Video Visit        I conducted this encounter from epic via live, face-to-face video conference with the patient. The patient was located at home.  Is the patient located in the state of Illinois at the time of the encounter? Yes. I was located at clinic.  Prior to the interview, the risks and benefits of telemedicine were discussed with the patient along with potential responsibility for payment.       This telehealth visit is being conducted at the patient's request.  Verbal consent was obtained from the patient to allow this to be designated as a telehealth encounter in lieu of a face-to-face office visit, the latter having been offered to the patient as an option to be scheduled at a later date. : Yes  Accordingly, any physical exam detailed is from audio and/or video inspection performed during this patient encounter.     Visit Duration : This telehealth encounter began at 10:45 ending at 11:13 for a total of 28 minutes.         Achille Salerno is a 79y male with h/o CVA, h/o polio, venous insufficiency, DM, HTN, prostate CA, colon CA seen today for leg ulcer.       Pt concerned about shallow open ulcer on his R leg.  Mild pain, occ drainage. No redness.  Leg swelling is the same.  They are using ACE wrap daily.         Still having issues with the bed.  Received 2 new beds but he is not able to get in these beds.  Now spends a couple hours     Current Outpatient Medications   Medication Sig   • atorvastatin (LIPITOR) 10 MG tablet TAKE ONE TABLET BY MOUTH DAILY   • CENTRUM SILVER PO 1 tablet daily   • CINNAMON PO Take  by mouth daily.   • Coenzyme Q10 (CO Q 10 PO) Take  by mouth daily.   • ECOTRIN 325 MG PO TBEC 1 tablet daily   • fluorouracil (EFUDEX) 5 % cream Apply thin layer to affected skin of face, ears, arms and back of hands BID x 2 weeks. Avoid biopsy sites   • fluticasone (FLONASE) 50 MCG/ACT nasal spray place 2 Sprays into both nostrils *daily.   • furosemide (LASIX) 40 MG tablet Take 1 Tab by mouth daily.   • GARLIC PO Take  by mouth daily.   • glipiZIDE (GLUCOTROL) 10 MG tablet Take 1 Tab by mouth 2 x daily with breakfast &amp; dinner.   • GLUCOSAMINE CHONDR 500 COMPLEX PO CAPS  1 tablet bid   • Insulin Glargine (INSULIN GLARGINE) 100 UNIT/ML Solution Pen-injector INJECT 51 UNITS INTO THE SKIN DAILY   • losartan (COZAAR) 100 MG tablet Take 1 Tab by mouth daily.   • metFORMIN (GLUCOPHAGE) 1000 MG tablet TAKE 1 TABLET BY MOUTH TWO TIMES A DAY WITH MEALS   • metoprolol succinate (TOPROL XL) 25 MG XL tablet Take 1 Tab by mouth daily.   • OMEGA 3 PO twice daily   • tamsulosin (FLOMAX) 0.4 MG capsule TAKE ONE CAPSULE BY MOUTH AT BEDTIME   • triamcinolone acetonide (KENALOG) 0.1 % ointment Apply thin layer to affected skin of right leg BID. Do not apply to face, underarms, groin or to normal skin.     No current facility-administered medications for this visit.        Physical Exam:    Appearance:  79 y/o male sitting comfortably    Extremities:  2+ RLE edema  Lower leg with round superficial ulcer, no surrounding erythema    After visit, spoke with home care nurse, Priscilla. She notes there is some surrounding erythema, but blanches, not hot.  Pt agreeable to Unna boot - Priscilla will place it.     Assessment/Plan:  1. Venous insufficiency:  Chronic LE edema, likely related partly to not being in bed at night.  We had a long discussion about this.  Pt too weak to get into the other beds.  Able to get into his bed but stays only a couple hours.  Advised to stay in bed overnight,elevate legs during day.  I advised PT at home to help increase his LE strength, but he declines due to worries of COVID.       Pt is agreeable to Unna boot for wound, I told Priscilla who will go forward with this.  No clear role for abx now but will monitor.     \""
      ]
     },
     "execution_count": 39,
     "metadata": {},
     "output_type": "execute_result"
    }
   ],
   "source": [
    "entries[0]"
   ]
  },
  {
   "cell_type": "code",
   "execution_count": null,
   "metadata": {
    "colab": {
     "base_uri": "https://localhost:8080/",
     "height": 174
    },
    "executionInfo": {
     "elapsed": 19,
     "status": "ok",
     "timestamp": 1691949190077,
     "user": {
      "displayName": "Mohammad AzariJafari",
      "userId": "06893572588162759360"
     },
     "user_tz": -210
    },
    "id": "TNnosxH5B4Da",
    "outputId": "b0a6ce13-38c2-4c32-959b-4443be3244e6"
   },
   "outputs": [
    {
     "data": {
      "application/vnd.google.colaboratory.intrinsic+json": {
       "type": "string"
      },
      "text/plain": [
       "'telehealth visit telehealth format synchronous audio video visit conducted encounter epic via live face face video conference patient patient located home patient located state illinois time encounter yes located clinic prior interview risk benefit telemedicine discussed patient along potential responsibility payment telehealth visit conducted patient request verbal consent obtained patient allow designated telehealth encounter lieu face face office visit latter offered patient option scheduled later date yes accordingly physical exam detailed audio video inspection performed patient encounter visit duration telehealth encounter began ending total minute achille salerno male h cva h polio venous insufficiency dm htn prostate ca colon ca seen today leg ulcer pt concerned shallow open ulcer r leg mild pain occ drainage redness leg swelling using ace wrap daily still issue bed received new bed able get bed spends couple hour current outpatient medication medication sig atorvastatin lipitor mg tablet take one tablet mouth daily centrum silver po tablet daily cinnamon po take mouth daily coenzyme q co q po take mouth daily ecotrin mg po tbec tablet daily fluorouracil efudex cream apply thin layer affected skin face ear arm back hand bid x week avoid biopsy site fluticasone flonase mcg act nasal spray place spray nostril daily furosemide lasix mg tablet take tab mouth daily garlic po take mouth daily glipizide glucotrol mg tablet take tab mouth x daily breakfast amp dinner glucosamine chondr complex po cap tablet bid insulin glargine insulin glargine unit ml solution pen injector inject unit skin daily losartan cozaar mg tablet take tab mouth daily metformin glucophage mg tablet take tablet mouth two time day meal metoprolol succinate toprol xl mg xl tablet take tab mouth daily omega po twice daily tamsulosin flomax mg capsule take one capsule mouth bedtime triamcinolone acetonide kenalog ointment apply thin layer affected skin right leg bid apply face underarms groin normal skin current facility administered medication visit physical exam appearance male sitting comfortably extremity rle edema lower leg round superficial ulcer surrounding erythema visit spoke home care nurse priscilla note surrounding erythema blanches hot pt agreeable unna boot priscilla place assessment plan venous insufficiency chronic le edema likely related partly bed night long discussion pt weak get bed able get bed stay couple hour advised stay bed overnight elevate leg day advised pt home help increase le strength decline due worry covid pt agreeable unna boot wound told priscilla go forward clear role abx monitor'"
      ]
     },
     "execution_count": 16,
     "metadata": {},
     "output_type": "execute_result"
    }
   ],
   "source": [
    "# documents[0] - don't run this cell - Previous stopwords"
   ]
  },
  {
   "cell_type": "code",
   "execution_count": null,
   "metadata": {
    "colab": {
     "base_uri": "https://localhost:8080/",
     "height": 174
    },
    "executionInfo": {
     "elapsed": 31,
     "status": "ok",
     "timestamp": 1693073144778,
     "user": {
      "displayName": "Mohammad AzariJafari",
      "userId": "06893572588162759360"
     },
     "user_tz": -210
    },
    "id": "XNE2llYHeNWS",
    "outputId": "a6931632-5105-457d-925f-8c618d5d9ba5"
   },
   "outputs": [
    {
     "data": {
      "application/vnd.google.colaboratory.intrinsic+json": {
       "type": "string"
      },
      "text/plain": [
       "'telehealth visit telehealth format synchronous audio video visit conducted encounter epic live face face video conference patient patient located patient located state illinois time encounter located clinic prior interview risk benefit telemedicine discussed patient potential responsibility payment telehealth visit conducted patient request verbal consent patient designated telehealth encounter lieu face face office visit offered patient option scheduled physical exam detailed audio video inspection performed patient encounter visit duration telehealth encounter began total minute achille salerno male cva polio venous insufficiency dm htn prostate colon today leg ulcer concerned shallow open ulcer leg mild pain occ drainage redness leg swelling ace wrap daily issue bed received bed bed spends couple hour current outpatient medication medication sig atorvastatin lipitor tablet tablet mouth daily centrum silver tablet daily cinnamon mouth daily coenzyme mouth daily ecotrin tbec tablet daily fluorouracil efudex cream apply layer skin face ear arm hand bid week avoid biopsy site fluticasone flonase mcg nasal spray place spray nostril daily furosemide lasix tablet tab mouth daily garlic mouth daily glipizide glucotrol tablet tab mouth daily breakfast amp dinner glucosamine chondr complex cap tablet bid insulin glargine insulin glargine unit solution pen injector inject unit skin daily losartan cozaar tablet tab mouth daily metformin glucophage tablet tablet mouth time day meal metoprolol succinate toprol tablet tab mouth daily omega daily tamsulosin flomax capsule capsule mouth bedtime triamcinolone acetonide kenalog ointment apply layer skin leg bid apply face underarms groin normal skin current facility administered medication visit physical exam appearance male sitting comfortably extremity rle edema lower leg round superficial ulcer surrounding erythema visit spoke care nurse priscilla note surrounding erythema blanches hot agreeable unna boot priscilla place assessment plan venous insufficiency chronic edema partly bed night long discussion weak bed bed stay couple hour advised stay bed overnight elevate leg day advised increase strength decline worry covid agreeable unna boot wound told priscilla forward clear role abx monitor'"
      ]
     },
     "execution_count": 16,
     "metadata": {},
     "output_type": "execute_result"
    }
   ],
   "source": [
    "documents[0]"
   ]
  },
  {
   "cell_type": "code",
   "execution_count": null,
   "metadata": {
    "id": "ipE4JeUv8GgG"
   },
   "outputs": [],
   "source": [
    "from pprint import pprint # Used to display complex data structures in a well-formatted and readable manner\n",
    "\n",
    "import gensim\n",
    "import spacy\n",
    "import logging, warnings\n",
    "import gensim.corpora as corpora\n",
    "from gensim.utils import simple_preprocess\n",
    "from gensim.models import CoherenceModel\n",
    "import matplotlib.pyplot as plt\n",
    "\n",
    "#Add new stopwords\n",
    "s3 = ['patient','time','blood','give','hospital', 'admission', 'tablet','discharge',\n",
    "    'history', 'leave', 'name', 'from', 'subject', 're', 'edu', 'use', 'not', 'would',\n",
    "    'say', 'could', '_', 'be', 'know', 'good', 'go', 'get', 'do', 'done', 'try',\n",
    "    'many', 'some', 'nice', 'thank', 'think', 'see', 'rather', 'easy', 'easily',\n",
    "    'lot', 'lack', 'make', 'want', 'seem', 'run', 'need', 'even', 'right', 'line',\n",
    "    'even', 'also', 'may', 'take', 'come']\n",
    "\n",
    "\n",
    "# Show matplotlib diagrams in jupyter and colab\n",
    "%matplotlib inline\n",
    "\n",
    "# Filtering unimportant warnings\n",
    "warnings.filterwarnings(\"ignore\",category=DeprecationWarning)\n",
    "# timestamp, log level, and the message - only show messages that have a severity level of ERROR or higher\n",
    "logging.basicConfig(format='%(asctime)s : %(levelname)s : %(message)s', level=logging.ERROR)"
   ]
  },
  {
   "cell_type": "code",
   "execution_count": null,
   "metadata": {
    "colab": {
     "base_uri": "https://localhost:8080/"
    },
    "executionInfo": {
     "elapsed": 330,
     "status": "ok",
     "timestamp": 1693081118978,
     "user": {
      "displayName": "Mohammad AzariJafari",
      "userId": "06893572588162759360"
     },
     "user_tz": -210
    },
    "id": "eso0tY5ZfzLS",
    "outputId": "c02f467c-8f7e-4e85-c20e-f32749e19aef"
   },
   "outputs": [
    {
     "data": {
      "text/plain": [
       "(179, 1160, 53)"
      ]
     },
     "execution_count": 24,
     "metadata": {},
     "output_type": "execute_result"
    }
   ],
   "source": [
    "len(s1), len(s2), len(s3)"
   ]
  },
  {
   "cell_type": "code",
   "execution_count": null,
   "metadata": {
    "id": "M6ND4gh3gB38"
   },
   "outputs": [],
   "source": [
    "stop_words = s1 + s2 + s3"
   ]
  },
  {
   "cell_type": "code",
   "execution_count": null,
   "metadata": {
    "colab": {
     "base_uri": "https://localhost:8080/"
    },
    "executionInfo": {
     "elapsed": 367,
     "status": "ok",
     "timestamp": 1693081382318,
     "user": {
      "displayName": "Mohammad AzariJafari",
      "userId": "06893572588162759360"
     },
     "user_tz": -210
    },
    "id": "VOneuujGgzyc",
    "outputId": "b98ffd30-4e2a-4d4d-82e0-9e851364713a"
   },
   "outputs": [
    {
     "data": {
      "text/plain": [
       "(1392, 1175)"
      ]
     },
     "execution_count": 26,
     "metadata": {},
     "output_type": "execute_result"
    }
   ],
   "source": [
    "len(stop_words), len(set(stop_words))"
   ]
  },
  {
   "cell_type": "code",
   "execution_count": null,
   "metadata": {
    "colab": {
     "base_uri": "https://localhost:8080/"
    },
    "executionInfo": {
     "elapsed": 355,
     "status": "ok",
     "timestamp": 1693073515736,
     "user": {
      "displayName": "Mohammad AzariJafari",
      "userId": "06893572588162759360"
     },
     "user_tz": -210
    },
    "id": "rOlBe5iRC3m2",
    "outputId": "317acee4-ba26-4731-bc08-97c8b9609db3"
   },
   "outputs": [
    {
     "data": {
      "text/plain": [
       "33412"
      ]
     },
     "execution_count": 18,
     "metadata": {},
     "output_type": "execute_result"
    }
   ],
   "source": [
    "len(documents)"
   ]
  },
  {
   "cell_type": "code",
   "execution_count": null,
   "metadata": {
    "id": "OA3XH2Cw8Gib"
   },
   "outputs": [],
   "source": [
    "def sent_to_words(sentences):\n",
    "    for sent in sentences:\n",
    "        sent = re.sub('\\S*@\\S*\\s?', '', sent) # Removes all email addresses\n",
    "        sent = re.sub('\\s+', ' ', sent) # Replaces any number of spaces with a single space\n",
    "        sent = re.sub(\"\\'\", \"\", sent) # Removes all single quotes (') from the text\n",
    "        sent = gensim.utils.simple_preprocess(str(sent), deacc=True) # Separate tokens and removing non-alphabetic characters.\n",
    "        yield(sent)\n",
    "\n",
    "# Convert to list\n",
    "data_words = list(sent_to_words(documents))"
   ]
  },
  {
   "cell_type": "code",
   "execution_count": null,
   "metadata": {
    "colab": {
     "base_uri": "https://localhost:8080/"
    },
    "executionInfo": {
     "elapsed": 370,
     "status": "ok",
     "timestamp": 1693073674784,
     "user": {
      "displayName": "Mohammad AzariJafari",
      "userId": "06893572588162759360"
     },
     "user_tz": -210
    },
    "id": "FrAGBSshDeIT",
    "outputId": "8f107052-6a17-4eed-ac4b-d3c1706eb2be"
   },
   "outputs": [
    {
     "data": {
      "text/plain": [
       "33412"
      ]
     },
     "execution_count": 21,
     "metadata": {},
     "output_type": "execute_result"
    }
   ],
   "source": [
    "len(data_words)"
   ]
  },
  {
   "cell_type": "code",
   "execution_count": null,
   "metadata": {
    "colab": {
     "base_uri": "https://localhost:8080/"
    },
    "executionInfo": {
     "elapsed": 14,
     "status": "ok",
     "timestamp": 1693073655437,
     "user": {
      "displayName": "Mohammad AzariJafari",
      "userId": "06893572588162759360"
     },
     "user_tz": -210
    },
    "id": "47WMrC5BSR8A",
    "outputId": "554348f5-88ad-4e94-8371-88fa23fa49b0"
   },
   "outputs": [
    {
     "data": {
      "text/plain": [
       "316"
      ]
     },
     "execution_count": 20,
     "metadata": {},
     "output_type": "execute_result"
    }
   ],
   "source": [
    "len(data_words[0])"
   ]
  },
  {
   "cell_type": "code",
   "execution_count": null,
   "metadata": {
    "colab": {
     "base_uri": "https://localhost:8080/"
    },
    "executionInfo": {
     "elapsed": 352,
     "status": "ok",
     "timestamp": 1693073684115,
     "user": {
      "displayName": "Mohammad AzariJafari",
      "userId": "06893572588162759360"
     },
     "user_tz": -210
    },
    "id": "O7DB2BzeG-fw",
    "outputId": "6a7950d1-b18d-4df8-ad5e-d56e7c4c9bd3",
    "scrolled": true
   },
   "outputs": [
    {
     "name": "stdout",
     "output_type": "stream",
     "text": [
      "['telehealth', 'visit', 'telehealth', 'format', 'synchronous', 'audio', 'video', 'visit', 'conducted', 'encounter', 'epic', 'live', 'face', 'face', 'video', 'conference', 'patient', 'patient', 'located', 'patient', 'located', 'state', 'illinois', 'time', 'encounter', 'located', 'clinic', 'prior', 'interview', 'risk', 'benefit', 'telemedicine', 'discussed', 'patient', 'potential', 'responsibility', 'payment', 'telehealth', 'visit', 'conducted', 'patient', 'request', 'verbal', 'consent', 'patient', 'designated', 'telehealth', 'encounter', 'lieu', 'face', 'face', 'office', 'visit', 'offered', 'patient', 'option', 'scheduled', 'physical', 'exam', 'detailed', 'audio', 'video', 'inspection', 'performed', 'patient', 'encounter', 'visit', 'duration', 'telehealth', 'encounter', 'began', 'total', 'minute', 'achille', 'salerno', 'male', 'cva', 'polio', 'venous', 'insufficiency', 'dm', 'htn', 'prostate', 'colon', 'today', 'leg', 'ulcer', 'concerned', 'shallow', 'open', 'ulcer', 'leg', 'mild', 'pain', 'occ', 'drainage', 'redness', 'leg', 'swelling', 'ace', 'wrap', 'daily', 'issue', 'bed', 'received', 'bed', 'bed', 'spends', 'couple', 'hour', 'current', 'outpatient', 'medication', 'medication', 'sig', 'atorvastatin', 'lipitor', 'tablet', 'tablet', 'mouth', 'daily', 'centrum', 'silver', 'tablet', 'daily', 'cinnamon', 'mouth', 'daily', 'coenzyme', 'mouth', 'daily', 'ecotrin', 'tbec', 'tablet', 'daily', 'fluorouracil', 'efudex', 'cream', 'apply', 'layer', 'skin', 'face', 'ear', 'arm', 'hand', 'bid', 'week', 'avoid', 'biopsy', 'site', 'fluticasone', 'flonase', 'mcg', 'nasal', 'spray', 'place', 'spray', 'nostril', 'daily', 'furosemide', 'lasix', 'tablet', 'tab', 'mouth', 'daily', 'garlic', 'mouth', 'daily', 'glipizide', 'glucotrol', 'tablet', 'tab', 'mouth', 'daily', 'breakfast', 'amp', 'dinner', 'glucosamine', 'chondr', 'complex', 'cap', 'tablet', 'bid', 'insulin', 'glargine', 'insulin', 'glargine', 'unit', 'solution', 'pen', 'injector', 'inject', 'unit', 'skin', 'daily', 'losartan', 'cozaar', 'tablet', 'tab', 'mouth', 'daily', 'metformin', 'glucophage', 'tablet', 'tablet', 'mouth', 'time', 'day', 'meal', 'metoprolol', 'succinate', 'toprol', 'tablet', 'tab', 'mouth', 'daily', 'omega', 'daily', 'tamsulosin', 'flomax', 'capsule', 'capsule', 'mouth', 'bedtime', 'triamcinolone', 'acetonide', 'kenalog', 'ointment', 'apply', 'layer', 'skin', 'leg', 'bid', 'apply', 'face', 'underarms', 'groin', 'normal', 'skin', 'current', 'facility', 'administered', 'medication', 'visit', 'physical', 'exam', 'appearance', 'male', 'sitting', 'comfortably', 'extremity', 'rle', 'edema', 'lower', 'leg', 'round', 'superficial', 'ulcer', 'surrounding', 'erythema', 'visit', 'spoke', 'care', 'nurse', 'priscilla', 'note', 'surrounding', 'erythema', 'blanches', 'hot', 'agreeable', 'unna', 'boot', 'priscilla', 'place', 'assessment', 'plan', 'venous', 'insufficiency', 'chronic', 'edema', 'partly', 'bed', 'night', 'long', 'discussion', 'weak', 'bed', 'bed', 'stay', 'couple', 'hour', 'advised', 'stay', 'bed', 'overnight', 'elevate', 'leg', 'day', 'advised', 'increase', 'strength', 'decline', 'worry', 'covid', 'agreeable', 'unna', 'boot', 'wound', 'told', 'priscilla', 'forward', 'clear', 'role', 'abx', 'monitor']\n"
     ]
    }
   ],
   "source": [
    "print(data_words[0])"
   ]
  },
  {
   "cell_type": "code",
   "execution_count": null,
   "metadata": {
    "id": "RMd1Rf2d9TB5"
   },
   "outputs": [],
   "source": [
    "# Build the bigram and trigram models\n",
    "bigram = gensim.models.Phrases(data_words, min_count=5, threshold=100)\n",
    "trigram = gensim.models.Phrases(bigram[data_words], threshold=100)\n",
    "bigram_mod = gensim.models.phrases.Phraser(bigram)\n",
    "trigram_mod = gensim.models.phrases.Phraser(trigram)\n",
    "\n",
    "def process_words(texts, stop_words=stop_words, allowed_postags=['NOUN', 'ADJ', 'VERB', 'ADV']):\n",
    "    #Remove Stopwords, Form Bigrams, Trigrams and Lemmatization\n",
    "    texts = [[word for word in simple_preprocess(str(doc)) if word not in stop_words] for doc in texts]\n",
    "    texts = [bigram_mod[doc] for doc in texts]\n",
    "    texts = [trigram_mod[bigram_mod[doc]] for doc in texts]\n",
    "    texts_out = []\n",
    "    nlp = spacy.load('en_core_web_sm', disable=['parser', 'ner'])\n",
    "\n",
    "    for sent in tqdm(texts):\n",
    "        doc = nlp(\" \".join(sent))\n",
    "        texts_out.append([token.lemma_ for token in doc if token.pos_ in allowed_postags])\n",
    "\n",
    "    # remove stopwords once more after lemmatization\n",
    "    texts_out = [[word for word in simple_preprocess(str(doc)) if word not in stop_words] for doc in texts_out]\n",
    "    return texts_out\n"
   ]
  },
  {
   "cell_type": "code",
   "execution_count": null,
   "metadata": {
    "colab": {
     "base_uri": "https://localhost:8080/"
    },
    "executionInfo": {
     "elapsed": 1422137,
     "status": "ok",
     "timestamp": 1693083032207,
     "user": {
      "displayName": "Mohammad AzariJafari",
      "userId": "06893572588162759360"
     },
     "user_tz": -210
    },
    "id": "dd9JsqxrA0as",
    "outputId": "c54f894d-14a5-496f-9099-0d0dbd2b13c9"
   },
   "outputs": [
    {
     "name": "stderr",
     "output_type": "stream",
     "text": [
      "100%|██████████| 33412/33412 [14:33<00:00, 38.27it/s]\n"
     ]
    }
   ],
   "source": [
    "# Take a lot of time\n",
    "data_ready = process_words(data_words)"
   ]
  },
  {
   "cell_type": "code",
   "execution_count": null,
   "metadata": {
    "id": "JBLmiVdTXUd8"
   },
   "outputs": [],
   "source": [
    "import pickle\n",
    "with open('\"/tmarkossian/212900/cati/data_ready.pkl', 'wb') as f:\n",
    "   pickle.dump(data_ready, f)"
   ]
  },
  {
   "cell_type": "code",
   "execution_count": null,
   "metadata": {
    "colab": {
     "base_uri": "https://localhost:8080/"
    },
    "executionInfo": {
     "elapsed": 336,
     "status": "ok",
     "timestamp": 1693083184439,
     "user": {
      "displayName": "Mohammad AzariJafari",
      "userId": "06893572588162759360"
     },
     "user_tz": -210
    },
    "id": "NDJ04uRPSXJ8",
    "outputId": "1bd77121-70f3-4b2b-cf8e-86a71295e3eb"
   },
   "outputs": [
    {
     "data": {
      "text/plain": [
       "177"
      ]
     },
     "execution_count": 30,
     "metadata": {},
     "output_type": "execute_result"
    }
   ],
   "source": [
    "len(data_ready[0])"
   ]
  },
  {
   "cell_type": "code",
   "execution_count": null,
   "metadata": {
    "colab": {
     "base_uri": "https://localhost:8080/"
    },
    "executionInfo": {
     "elapsed": 351,
     "status": "ok",
     "timestamp": 1693083195253,
     "user": {
      "displayName": "Mohammad AzariJafari",
      "userId": "06893572588162759360"
     },
     "user_tz": -210
    },
    "id": "j4FTvOtQR6yl",
    "outputId": "7a9578ee-6ab1-4791-cc69-aa85abc46e95"
   },
   "outputs": [
    {
     "name": "stdout",
     "output_type": "stream",
     "text": [
      "['telehealth', 'video', 'visit', 'conduct', 'encounter', 'epic', 'live', 'face', 'locate', 'locate', 'state', 'encounter', 'locate', 'clinic', 'prior', 'interview', 'discuss', 'visit', 'conduct', 'office', 'visit', 'offer', 'option', 'schedule', 'encounter', 'visit', 'encounter', 'total', 'minute', 'achille_salerno', 'male', 'cva', 'polio', 'htn', 'prostate', 'colon', 'today', 'leg', 'ulcer', 'concern', 'shallow', 'open', 'ulcer', 'leg', 'mild', 'pain', 'occ', 'drainage', 'redness', 'leg', 'swell', 'daily', 'issue', 'bed', 'receive', 'bed', 'bed', 'spend', 'couple', 'hour', 'current', 'outpatient', 'medication', 'medication', 'daily', 'daily', 'daily', 'daily', 'apply', 'layer', 'skin', 'face', 'ear', 'arm', 'hand', 'bid', 'week', 'avoid', 'daily', 'tab', 'mouth', 'daily', 'mouth', 'tab', 'daily', 'breakfast', 'dinner', 'complex', 'cap', 'bid', 'insulin', 'glargine', 'insulin', 'glargine', 'unit', 'inject', 'unit', 'skin', 'tab', 'mouth', 'day', 'meal', 'daily', 'omega', 'daily', 'capsule', 'mouth', 'bedtime', 'ointment', 'apply', 'layer', 'skin', 'groin', 'normal', 'skin', 'current', 'facility', 'administer', 'medication', 'visit', 'physical', 'exam', 'appearance', 'male', 'sit', 'comfortably', 'extremity', 'rle', 'edema', 'low', 'leg', 'round', 'superficial', 'ulcer', 'visit', 'speak', 'note', 'blanch', 'hot', 'agreeable', 'priscilla', 'place', 'assessment', 'plan', 'chronic', 'edema', 'partly', 'bed', 'night', 'long', 'discussion', 'weak', 'bed', 'bed', 'stay', 'couple', 'hour', 'advise', 'stay', 'bed', 'overnight', 'elevate', 'day', 'advise', 'increase', 'strength', 'decline', 'worry', 'covid', 'agreeable', 'unna_boot', 'wound', 'forward', 'clear', 'role', 'abx', 'monitor']\n"
     ]
    }
   ],
   "source": [
    "print(data_ready[0])"
   ]
  },
  {
   "cell_type": "code",
   "execution_count": null,
   "metadata": {
    "id": "UtpdsSer9puV"
   },
   "outputs": [],
   "source": [
    "# Create Dictionary\n",
    "id2word = corpora.Dictionary(data_ready)"
   ]
  },
  {
   "cell_type": "code",
   "execution_count": null,
   "metadata": {
    "colab": {
     "base_uri": "https://localhost:8080/"
    },
    "executionInfo": {
     "elapsed": 350,
     "status": "ok",
     "timestamp": 1693084220054,
     "user": {
      "displayName": "Mohammad AzariJafari",
      "userId": "06893572588162759360"
     },
     "user_tz": -210
    },
    "id": "tXe7a6fDrsFK",
    "outputId": "6ed3185e-a9f4-4222-cd15-0648ae777f76"
   },
   "outputs": [
    {
     "data": {
      "text/plain": [
       "36806"
      ]
     },
     "execution_count": 56,
     "metadata": {},
     "output_type": "execute_result"
    }
   ],
   "source": [
    "len(id2word.token2id)"
   ]
  },
  {
   "cell_type": "code",
   "execution_count": null,
   "metadata": {
    "colab": {
     "base_uri": "https://localhost:8080/"
    },
    "executionInfo": {
     "elapsed": 342,
     "status": "ok",
     "timestamp": 1693083517265,
     "user": {
      "displayName": "Mohammad AzariJafari",
      "userId": "06893572588162759360"
     },
     "user_tz": -210
    },
    "id": "9P0Tmi-JoOp-",
    "outputId": "abef50da-253d-442a-bdc2-3acef98131e8"
   },
   "outputs": [
    {
     "data": {
      "text/plain": [
       "{'abx': 0,\n",
       " 'achille_salerno': 1,\n",
       " 'administer': 2,\n",
       " 'advise': 3,\n",
       " 'agreeable': 4,\n",
       " 'appearance': 5,\n",
       " 'apply': 6,\n",
       " 'arm': 7,\n",
       " 'assessment': 8,\n",
       " 'avoid': 9,\n",
       " 'bed': 10,\n",
       " 'bedtime': 11,\n",
       " 'bid': 12,\n",
       " 'blanch': 13,\n",
       " 'breakfast': 14,\n",
       " 'cap': 15,\n",
       " 'capsule': 16,\n",
       " 'chronic': 17,\n",
       " 'clear': 18,\n",
       " 'clinic': 19,\n",
       " 'colon': 20,\n",
       " 'comfortably': 21,\n",
       " 'complex': 22,\n",
       " 'concern': 23,\n",
       " 'conduct': 24,\n",
       " 'couple': 25,\n",
       " 'covid': 26,\n",
       " 'current': 27,\n",
       " 'cva': 28,\n",
       " 'daily': 29,\n",
       " 'day': 30,\n",
       " 'decline': 31,\n",
       " 'dinner': 32,\n",
       " 'discuss': 33,\n",
       " 'discussion': 34,\n",
       " 'drainage': 35,\n",
       " 'ear': 36,\n",
       " 'edema': 37,\n",
       " 'elevate': 38,\n",
       " 'encounter': 39,\n",
       " 'epic': 40,\n",
       " 'exam': 41,\n",
       " 'extremity': 42,\n",
       " 'face': 43,\n",
       " 'facility': 44,\n",
       " 'forward': 45,\n",
       " 'glargine': 46,\n",
       " 'groin': 47,\n",
       " 'hand': 48,\n",
       " 'hot': 49,\n",
       " 'hour': 50,\n",
       " 'htn': 51,\n",
       " 'increase': 52,\n",
       " 'inject': 53,\n",
       " 'insulin': 54,\n",
       " 'interview': 55,\n",
       " 'issue': 56,\n",
       " 'layer': 57,\n",
       " 'leg': 58,\n",
       " 'live': 59,\n",
       " 'locate': 60,\n",
       " 'long': 61,\n",
       " 'low': 62,\n",
       " 'male': 63,\n",
       " 'meal': 64,\n",
       " 'medication': 65,\n",
       " 'mild': 66,\n",
       " 'minute': 67,\n",
       " 'monitor': 68,\n",
       " 'mouth': 69,\n",
       " 'night': 70,\n",
       " 'normal': 71,\n",
       " 'note': 72,\n",
       " 'occ': 73,\n",
       " 'offer': 74,\n",
       " 'office': 75,\n",
       " 'ointment': 76,\n",
       " 'omega': 77,\n",
       " 'open': 78,\n",
       " 'option': 79,\n",
       " 'outpatient': 80,\n",
       " 'overnight': 81,\n",
       " 'pain': 82,\n",
       " 'partly': 83,\n",
       " 'physical': 84,\n",
       " 'place': 85,\n",
       " 'plan': 86,\n",
       " 'polio': 87,\n",
       " 'prior': 88,\n",
       " 'priscilla': 89,\n",
       " 'prostate': 90,\n",
       " 'receive': 91,\n",
       " 'redness': 92,\n",
       " 'rle': 93,\n",
       " 'role': 94,\n",
       " 'round': 95,\n",
       " 'schedule': 96,\n",
       " 'shallow': 97,\n",
       " 'sit': 98,\n",
       " 'skin': 99,\n",
       " 'speak': 100,\n",
       " 'spend': 101,\n",
       " 'state': 102,\n",
       " 'stay': 103,\n",
       " 'strength': 104,\n",
       " 'superficial': 105,\n",
       " 'swell': 106,\n",
       " 'tab': 107,\n",
       " 'telehealth': 108,\n",
       " 'today': 109,\n",
       " 'total': 110,\n",
       " 'ulcer': 111,\n",
       " 'unit': 112,\n",
       " 'unna_boot': 113,\n",
       " 'video': 114,\n",
       " 'visit': 115,\n",
       " 'weak': 116,\n",
       " 'week': 117,\n",
       " 'worry': 118,\n",
       " 'wound': 119,\n",
       " 'afternoon': 120,\n",
       " 'ago': 121,\n",
       " 'albuterol': 122,\n",
       " 'allergy': 123,\n",
       " 'amlodipine': 124,\n",
       " 'anhedonia': 125,\n",
       " 'bad': 126,\n",
       " 'base': 127,\n",
       " 'benign': 128,\n",
       " 'bm': 129,\n",
       " 'bmp': 130,\n",
       " 'breathing': 131,\n",
       " 'bronchiectasis': 132,\n",
       " 'bumetanide': 133,\n",
       " 'cad': 134,\n",
       " 'cardiovascular': 135,\n",
       " 'check': 136,\n",
       " 'cirrhosis_nash': 137,\n",
       " 'ckd': 138,\n",
       " 'congestion': 139,\n",
       " 'constant': 140,\n",
       " 'continue': 141,\n",
       " 'control': 142,\n",
       " 'cough': 143,\n",
       " 'crisostomo': 144,\n",
       " 'cyanocobalamin': 145,\n",
       " 'deny': 146,\n",
       " 'differently': 147,\n",
       " 'direct': 148,\n",
       " 'disease': 149,\n",
       " 'diuretic': 150,\n",
       " 'dose': 151,\n",
       " 'drop': 152,\n",
       " 'dry': 153,\n",
       " 'ergocalciferol': 154,\n",
       " 'exp_wheeze': 155,\n",
       " 'eye': 156,\n",
       " 'female': 157,\n",
       " 'field': 158,\n",
       " 'fine': 159,\n",
       " 'food': 160,\n",
       " 'foot': 161,\n",
       " 'frequent': 162,\n",
       " 'gastric': 163,\n",
       " 'hfpef': 164,\n",
       " 'humalog_kwikpen': 165,\n",
       " 'hyperlipidemia': 166,\n",
       " 'ida': 167,\n",
       " 'indication': 168,\n",
       " 'infusion': 169,\n",
       " 'inhale': 170,\n",
       " 'injection': 171,\n",
       " 'intact': 172,\n",
       " 'iron': 173,\n",
       " 'knee': 174,\n",
       " 'large': 175,\n",
       " 'late': 176,\n",
       " 'lift': 177,\n",
       " 'lle': 178,\n",
       " 'location': 179,\n",
       " 'lorraine_peter': 180,\n",
       " 'loss': 181,\n",
       " 'lung': 182,\n",
       " 'mcg': 183,\n",
       " 'monofilament': 184,\n",
       " 'month': 185,\n",
       " 'multiple': 186,\n",
       " 'murmur': 187,\n",
       " 'nebulizer': 188,\n",
       " 'neuropathic': 189,\n",
       " 'nightly': 190,\n",
       " 'order': 191,\n",
       " 'orthopnea_pnd': 192,\n",
       " 'palpitaion': 193,\n",
       " 'planning': 194,\n",
       " 'polyp': 195,\n",
       " 'position': 196,\n",
       " 'prescription': 197,\n",
       " 'procedure': 198,\n",
       " 'puff': 199,\n",
       " 'pulm': 200,\n",
       " 'radiate': 201,\n",
       " 'radiation': 202,\n",
       " 'reflux': 203,\n",
       " 'refresh_refresh': 204,\n",
       " 'regiman': 205,\n",
       " 'release': 206,\n",
       " 'repeat': 207,\n",
       " 'resect': 208,\n",
       " 'sig': 209,\n",
       " 'sitting': 210,\n",
       " 'sleeplessness': 211,\n",
       " 'solution': 212,\n",
       " 'sputum': 213,\n",
       " 'stable': 214,\n",
       " 'surgery': 215,\n",
       " 'tavr': 216,\n",
       " 'test': 217,\n",
       " 'thyroid': 218,\n",
       " 'touch': 219,\n",
       " 'tylenol': 220,\n",
       " 'upper': 221,\n",
       " 'varicose_vein': 222,\n",
       " 'vascular': 223,\n",
       " 'vein_strippe': 224,\n",
       " 'vitamin': 225,\n",
       " 'weight': 226,\n",
       " 'wheeze': 227,\n",
       " 'wt': 228,\n",
       " 'year': 229,\n",
       " 'baseline': 230,\n",
       " 'ble_hard_woody': 231,\n",
       " 'bout': 232,\n",
       " 'chair': 233,\n",
       " 'chill': 234,\n",
       " 'coarse': 235,\n",
       " 'diarrhea': 236,\n",
       " 'distended': 237,\n",
       " 'distension': 238,\n",
       " 'draw': 239,\n",
       " 'duoneb': 240,\n",
       " 'eat': 241,\n",
       " 'evidence': 242,\n",
       " 'examine': 243,\n",
       " 'fact': 244,\n",
       " 'feel': 245,\n",
       " 'fever': 246,\n",
       " 'follow': 247,\n",
       " 'form': 248,\n",
       " 'gassy': 249,\n",
       " 'inhaler': 250,\n",
       " 'lorraine_pet': 251,\n",
       " 'melena': 252,\n",
       " 'microalb': 253,\n",
       " 'midline': 254,\n",
       " 'mod': 255,\n",
       " 'morning': 256,\n",
       " 'nebulize': 257,\n",
       " 'neck': 258,\n",
       " 'orthostatic': 259,\n",
       " 'palpation': 260,\n",
       " 'palpitation': 261,\n",
       " 'queasy': 262,\n",
       " 'range': 263,\n",
       " 'resolve': 264,\n",
       " 'response': 265,\n",
       " 'resume': 266,\n",
       " 'saline': 267,\n",
       " 'sided': 268,\n",
       " 'sob': 269,\n",
       " 'soft': 270,\n",
       " 'sugar': 271,\n",
       " 'suspect': 272,\n",
       " 'systolic': 273,\n",
       " 'tenderness': 274,\n",
       " 'unchanged': 275,\n",
       " 'vomiting': 276,\n",
       " 'walk': 277,\n",
       " 'yesterday': 278,\n",
       " 'color': 279,\n",
       " 'drug': 280,\n",
       " 'evaluation': 281,\n",
       " 'pass': 282,\n",
       " 'pulse': 283,\n",
       " 'regular': 284,\n",
       " 'resp': 285,\n",
       " 'review': 286,\n",
       " 'screen': 287,\n",
       " 'screen_collecte': 288,\n",
       " 'sign': 289,\n",
       " 'tdap': 290,\n",
       " 'vision': 291,\n",
       " 'abnormal': 292,\n",
       " 'active': 293,\n",
       " 'adult_pediatric': 294,\n",
       " 'age': 295,\n",
       " 'alert': 296,\n",
       " 'answer': 297,\n",
       " 'arthritis': 298,\n",
       " 'atorvastatin': 299,\n",
       " 'bilaterally': 300,\n",
       " 'bleeding': 301,\n",
       " 'bowel': 302,\n",
       " 'bridge': 303,\n",
       " 'calcium': 304,\n",
       " 'cardiology': 305,\n",
       " 'care': 306,\n",
       " 'carie': 307,\n",
       " 'chest': 308,\n",
       " 'chf': 309,\n",
       " 'chief': 310,\n",
       " 'cholecalciferol': 311,\n",
       " 'cholecystitis': 312,\n",
       " 'chronically': 313,\n",
       " 'codeine': 314,\n",
       " 'colonoscopy': 315,\n",
       " 'complaint': 316,\n",
       " 'complication': 317,\n",
       " 'coumadin': 318,\n",
       " 'cpap': 319,\n",
       " 'deficiency': 320,\n",
       " 'dental': 321,\n",
       " 'develop': 322,\n",
       " 'diagnosis': 323,\n",
       " 'die': 324,\n",
       " 'distress': 325,\n",
       " 'education': 326,\n",
       " 'endometrial': 327,\n",
       " 'extraction': 328,\n",
       " 'failure': 329,\n",
       " 'family': 330,\n",
       " 'florastor': 331,\n",
       " 'fpor': 332,\n",
       " 'furosemide': 333,\n",
       " 'future': 334,\n",
       " 'general': 335,\n",
       " 'glucose': 336,\n",
       " 'heart': 337,\n",
       " 'heent': 338,\n",
       " 'heparin': 339,\n",
       " 'hospitalize': 340,\n",
       " 'hsm': 341,\n",
       " 'hypertension': 342,\n",
       " 'hypothyroidism': 343,\n",
       " 'hypoxic': 344,\n",
       " 'illness': 345,\n",
       " 'immodium': 346,\n",
       " 'improved': 347,\n",
       " 'infection': 348,\n",
       " 'insufficiency': 349,\n",
       " 'involve': 350,\n",
       " 'joint': 351,\n",
       " 'levothyroxine': 352,\n",
       " 'lipitor': 353,\n",
       " 'list': 354,\n",
       " 'measurement': 355,\n",
       " 'mechanical': 356,\n",
       " 'medical': 357,\n",
       " 'mesalamine': 358,\n",
       " 'mitral': 359,\n",
       " 'morbid_obesity': 360,\n",
       " 'multivitamin': 361,\n",
       " 'musculoskeletal': 362,\n",
       " 'mvr_jude': 363,\n",
       " 'negative': 364,\n",
       " 'neurologic': 365,\n",
       " 'objective': 366,\n",
       " 'ophthalmic': 367,\n",
       " 'oral': 368,\n",
       " 'osh': 369,\n",
       " 'osteoarthritis': 370,\n",
       " 'percussion': 371,\n",
       " 'perforation': 372,\n",
       " 'peripheral': 373,\n",
       " 'pit': 374,\n",
       " 'pmi': 375,\n",
       " 'poag': 376,\n",
       " 'presbyopia': 377,\n",
       " 'pressure': 378,\n",
       " 'primary': 379,\n",
       " 'prn': 380,\n",
       " 'problem': 381,\n",
       " 'pulmonary': 382,\n",
       " 'pure': 383,\n",
       " 'question': 384,\n",
       " 'recurrence': 385,\n",
       " 'report': 386,\n",
       " 'respiratory': 387,\n",
       " 'return': 388,\n",
       " 'shortness': 389,\n",
       " 'sleep': 390,\n",
       " 'social': 391,\n",
       " 'son': 392,\n",
       " 'sound': 393,\n",
       " 'spine': 394,\n",
       " 'spironolactone': 395,\n",
       " 'stenosis': 396,\n",
       " 'study': 397,\n",
       " 'surgeon': 398,\n",
       " 'surgical': 399,\n",
       " 'switch': 400,\n",
       " 'teeth': 401,\n",
       " 'tooth': 402,\n",
       " 'trace': 403,\n",
       " 'type': 404,\n",
       " 'unremarkable': 405,\n",
       " 'unspecified': 406,\n",
       " 'urinary': 407,\n",
       " 'vaginal': 408,\n",
       " 'valve': 409,\n",
       " 'venous': 410,\n",
       " 'venous_stasis': 411,\n",
       " 'weakness': 412,\n",
       " 'abdominal': 413,\n",
       " 'activity': 414,\n",
       " 'adverse': 415,\n",
       " 'alcohol': 416,\n",
       " 'amp': 417,\n",
       " 'appy': 418,\n",
       " 'breath': 419,\n",
       " 'brother': 420,\n",
       " 'cancer': 421,\n",
       " 'cleo_nicholson': 422,\n",
       " 'comment': 423,\n",
       " 'constitutional': 424,\n",
       " 'cooking_cleane': 425,\n",
       " 'copd': 426,\n",
       " 'decrease': 427,\n",
       " 'drinking': 428,\n",
       " 'drive': 429,\n",
       " 'epigastrium': 430,\n",
       " 'episode': 431,\n",
       " 'esophagitis': 432,\n",
       " 'establish': 433,\n",
       " 'exhibit': 434,\n",
       " 'fatigue': 435,\n",
       " 'file': 436,\n",
       " 'finance': 437,\n",
       " 'fluticasone': 438,\n",
       " 'handle': 439,\n",
       " 'husband': 440,\n",
       " 'ipratropium': 441,\n",
       " 'kid': 442,\n",
       " 'laterality': 443,\n",
       " 'lens': 444,\n",
       " 'life': 445,\n",
       " 'light': 446,\n",
       " 'main': 447,\n",
       " 'marital': 448,\n",
       " 'narrative': 449,\n",
       " 'nausea_vomite': 450,\n",
       " 'neurological': 451,\n",
       " 'obstructive': 452,\n",
       " 'onset': 453,\n",
       " 'pack': 454,\n",
       " 'patch': 455,\n",
       " 'pcp': 456,\n",
       " 'positive': 457,\n",
       " 'ppi': 458,\n",
       " 'quit': 459,\n",
       " 'range_motion': 460,\n",
       " 'reaction': 461,\n",
       " 'refer': 462,\n",
       " 'relation': 463,\n",
       " 'relief': 464,\n",
       " 'resection': 465,\n",
       " 'sexual': 466,\n",
       " 'smoke': 467,\n",
       " 'smokeless': 468,\n",
       " 'smoker': 469,\n",
       " 'smoking': 470,\n",
       " 'status': 471,\n",
       " 'subjective': 472,\n",
       " 'tobacco': 473,\n",
       " 'topic': 474,\n",
       " 'trial': 475,\n",
       " 'vital': 476,\n",
       " 'water': 477,\n",
       " 'acute': 478,\n",
       " 'appointment': 479,\n",
       " 'aspirin': 480,\n",
       " 'atherosclerosis': 481,\n",
       " 'block': 482,\n",
       " 'bone': 483,\n",
       " 'cancel': 484,\n",
       " 'carbamazepine': 485,\n",
       " 'carbemazepine': 486,\n",
       " 'card': 487,\n",
       " 'cardiac': 488,\n",
       " 'complete': 489,\n",
       " 'complicate': 490,\n",
       " 'cor_pulmonale': 491,\n",
       " 'coronary': 492,\n",
       " 'decompensate': 493,\n",
       " 'density': 494,\n",
       " 'dependent': 495,\n",
       " 'device': 496,\n",
       " 'diabete': 497,\n",
       " 'diabetic': 498,\n",
       " 'diastolic': 499,\n",
       " 'diet': 500,\n",
       " 'discontinue': 501,\n",
       " 'dispense': 502,\n",
       " 'distal': 503,\n",
       " 'distally': 504,\n",
       " 'docusate_sodium': 505,\n",
       " 'dvt': 506,\n",
       " 'dysfunction': 507,\n",
       " 'dyspnea': 508,\n",
       " 'eliminate': 509,\n",
       " 'encourage': 510,\n",
       " 'essential': 511,\n",
       " 'estimate': 512,\n",
       " 'exacerbation': 513,\n",
       " 'exertional': 514,\n",
       " 'expose': 515,\n",
       " 'ext': 516,\n",
       " 'extend': 517,\n",
       " 'fast': 518,\n",
       " 'gradient': 519,\n",
       " 'health': 520,\n",
       " 'high': 521,\n",
       " 'hospitalization': 522,\n",
       " 'hypersomnolence': 523,\n",
       " 'icd': 524,\n",
       " 'ill': 525,\n",
       " 'improve': 526,\n",
       " 'incidentally': 527,\n",
       " 'internal': 528,\n",
       " 'ischemic': 529,\n",
       " 'kit': 530,\n",
       " 'lesion': 531,\n",
       " 'lightheadedness': 532,\n",
       " 'lipid': 533,\n",
       " 'lisinopril': 534,\n",
       " 'lvef': 535,\n",
       " 'lvh': 536,\n",
       " 'maintenance': 537,\n",
       " 'mammo': 538,\n",
       " 'medicine': 539,\n",
       " 'mmhg': 540,\n",
       " 'molecular': 541,\n",
       " 'net': 542,\n",
       " 'notable': 543,\n",
       " 'nourish': 544,\n",
       " 'pager': 545,\n",
       " 'panel': 546,\n",
       " 'partner': 547,\n",
       " 'pharmacy': 548,\n",
       " 'phtn': 549,\n",
       " 'pitting': 550,\n",
       " 'popliteal': 551,\n",
       " 'post': 552,\n",
       " 'precipitant': 553,\n",
       " 'rash': 554,\n",
       " 'rate': 555,\n",
       " 'retire': 556,\n",
       " 'rhythm': 557,\n",
       " 'routine': 558,\n",
       " 'rve': 559,\n",
       " 'scan': 560,\n",
       " 'shingle': 561,\n",
       " 'sodium': 562,\n",
       " 'start': 563,\n",
       " 'syrinx': 564,\n",
       " 'tender': 565,\n",
       " 'therapeutic': 566,\n",
       " 'thigh': 567,\n",
       " 'treat': 568,\n",
       " 'tte': 569,\n",
       " 'unclear': 570,\n",
       " 'urine': 571,\n",
       " 'vaccine': 572,\n",
       " 'vaginal_atrophy': 573,\n",
       " 'valvular': 574,\n",
       " 'vesicular': 575,\n",
       " 'visl_field': 576,\n",
       " 'warfarin': 577,\n",
       " 'warm': 578,\n",
       " 'watch': 579,\n",
       " 'weigh': 580,\n",
       " 'worsen': 581,\n",
       " 'abdomen': 582,\n",
       " 'account': 583,\n",
       " 'acquire': 584,\n",
       " 'agree': 585,\n",
       " 'allergen': 586,\n",
       " 'ambulates_walk': 587,\n",
       " 'anemia': 588,\n",
       " 'attend': 589,\n",
       " 'attribute': 590,\n",
       " 'atypical': 591,\n",
       " 'birad': 592,\n",
       " 'blepharitis': 593,\n",
       " 'breast': 594,\n",
       " 'cbc': 595,\n",
       " 'change': 596,\n",
       " 'constipation': 597,\n",
       " 'corn_callosity': 598,\n",
       " 'deficit': 599,\n",
       " 'diabetes': 600,\n",
       " 'differential': 601,\n",
       " 'early': 602,\n",
       " 'embolism': 603,\n",
       " 'eomi_perrl': 604,\n",
       " 'flow': 605,\n",
       " 'focal': 606,\n",
       " 'gait': 607,\n",
       " 'gerd': 608,\n",
       " 'glaucoma': 609,\n",
       " 'headache': 610,\n",
       " 'hemorrhagic': 611,\n",
       " 'hyponatremia': 612,\n",
       " 'hypoxemic': 613,\n",
       " 'icteric_sclera': 614,\n",
       " 'include': 615,\n",
       " 'lasix': 616,\n",
       " 'limb': 617,\n",
       " 'lmp_lmp_unknown': 618,\n",
       " 'malaise': 619,\n",
       " 'mammogram': 620,\n",
       " 'mass': 621,\n",
       " 'min': 622,\n",
       " 'mmm': 623,\n",
       " 'motor': 624,\n",
       " 'muscle': 625,\n",
       " 'nail': 626,\n",
       " 'nodule': 627,\n",
       " 'numbness_tingle': 628,\n",
       " 'overt': 629,\n",
       " 'palpable': 630,\n",
       " 'prinivil': 631,\n",
       " 'psychiatric': 632,\n",
       " 'refill': 633,\n",
       " 'request': 634,\n",
       " 'resident': 635,\n",
       " 'rhinorrhea': 636,\n",
       " 'rom': 637,\n",
       " 'sensory': 638,\n",
       " 'severe': 639,\n",
       " 'stiffness': 640,\n",
       " 'stress': 641,\n",
       " 'substance': 642,\n",
       " 'supervise': 643,\n",
       " 'suspicious': 644,\n",
       " 'sx': 645,\n",
       " 'testing': 646,\n",
       " 'uncontrolle': 647,\n",
       " 'visual': 648,\n",
       " 'woman': 649,\n",
       " 'anicteric': 650,\n",
       " 'bittle': 651,\n",
       " 'bottle': 652,\n",
       " 'compliance': 653,\n",
       " 'condispense': 654,\n",
       " 'continuous': 655,\n",
       " 'desat_screen': 656,\n",
       " 'dispenser': 657,\n",
       " 'dispite': 658,\n",
       " 'duscuss': 659,\n",
       " 'expliciterquest': 660,\n",
       " 'extensive': 661,\n",
       " 'forchronic': 662,\n",
       " 'generalize': 663,\n",
       " 'intop': 664,\n",
       " 'lodipine': 665,\n",
       " 'lose': 666,\n",
       " 'lumbar': 667,\n",
       " 'malnutrition': 668,\n",
       " 'mise': 669,\n",
       " 'moderate': 670,\n",
       " 'opht': 671,\n",
       " 'pill': 672,\n",
       " 'poor': 673,\n",
       " 'prognosis': 674,\n",
       " 'protein': 675,\n",
       " 'purse': 676,\n",
       " 'region': 677,\n",
       " 'rrr': 678,\n",
       " 'sprain': 679,\n",
       " 'statin': 680,\n",
       " 'terrible': 681,\n",
       " 'throw': 682,\n",
       " 'understanding': 683,\n",
       " 'admit': 684,\n",
       " 'bph': 685,\n",
       " 'burn': 686,\n",
       " 'component': 687,\n",
       " 'ctpe': 688,\n",
       " 'dehydrate': 689,\n",
       " 'dehydration': 690,\n",
       " 'disturbance': 691,\n",
       " 'dizziness': 692,\n",
       " 'ekg': 693,\n",
       " 'electrolyte': 694,\n",
       " 'elevated': 695,\n",
       " 'exacerbate': 696,\n",
       " 'flonase': 697,\n",
       " 'hpi': 698,\n",
       " 'lab': 699,\n",
       " 'lft': 700,\n",
       " 'mdue': 701,\n",
       " 'mildly': 702,\n",
       " 'persist': 703,\n",
       " 'phone': 704,\n",
       " 'potassium': 705,\n",
       " 'previous': 706,\n",
       " 'psad': 707,\n",
       " 'ray': 708,\n",
       " 'recheck': 709,\n",
       " 'referral': 710,\n",
       " 'scar': 711,\n",
       " 'specific': 712,\n",
       " 'stabilize': 713,\n",
       " 'syndrome': 714,\n",
       " 'treatment': 715,\n",
       " 'troponin': 716,\n",
       " 'urology': 717,\n",
       " 'viral': 718,\n",
       " 'wave': 719,\n",
       " 'aaa': 720,\n",
       " 'accident': 721,\n",
       " 'actual': 722,\n",
       " 'alternative': 723,\n",
       " 'ankle': 724,\n",
       " 'annual': 725,\n",
       " 'antalgic_gait': 726,\n",
       " 'appearing_nad': 727,\n",
       " 'bathroom': 728,\n",
       " 'benefit': 729,\n",
       " 'biopsy': 730,\n",
       " 'body': 731,\n",
       " 'bouchard_charle': 732,\n",
       " 'cane': 733,\n",
       " 'child': 734,\n",
       " 'cholecystectomy': 735,\n",
       " 'confirm': 736,\n",
       " 'cscope': 737,\n",
       " 'cyst': 738,\n",
       " 'decision_make': 739,\n",
       " 'degree': 740,\n",
       " 'depression': 741,\n",
       " 'diclofenac': 742,\n",
       " 'difficulty': 743,\n",
       " 'document': 744,\n",
       " 'drink': 745,\n",
       " 'emg': 746,\n",
       " 'ent': 747,\n",
       " 'examination': 748,\n",
       " 'fall': 749,\n",
       " 'final': 750,\n",
       " 'final_alt_sgpt': 751,\n",
       " 'finasteride': 752,\n",
       " 'forced_sexual': 753,\n",
       " 'form_fille': 754,\n",
       " 'fracture': 755,\n",
       " 'grab_bar': 756,\n",
       " 'graft': 757,\n",
       " 'handrail_stair': 758,\n",
       " 'harry_woodson': 759,\n",
       " 'hearing': 760,\n",
       " 'hip': 761,\n",
       " 'hydrodiuril': 762,\n",
       " 'immunization': 763,\n",
       " 'inability': 764,\n",
       " 'inactive': 765,\n",
       " 'include_opiate': 766,\n",
       " 'inflammation': 767,\n",
       " 'inform': 768,\n",
       " 'injury': 769,\n",
       " 'ink': 770,\n",
       " 'instructed_desk': 771,\n",
       " 'instruction': 772,\n",
       " 'klonopin': 773,\n",
       " 'level': 774,\n",
       " 'lifestyle': 775,\n",
       " 'man': 776,\n",
       " 'marry': 777,\n",
       " 'med': 778,\n",
       " 'mention': 779,\n",
       " 'methadone': 780,\n",
       " 'mixed': 781,\n",
       " 'nausea': 782,\n",
       " 'neoplasm': 783,\n",
       " 'notice_heare': 784,\n",
       " 'occupational': 785,\n",
       " 'organ': 786,\n",
       " 'organization': 787,\n",
       " 'orient': 788,\n",
       " 'osteoarthrosis': 789,\n",
       " 'peptic_ulcer': 790,\n",
       " 'percent': 791,\n",
       " 'personal': 792,\n",
       " 'phq_score': 793,\n",
       " 'physician': 794,\n",
       " 'pin': 795,\n",
       " 'pleasure_the': 796,\n",
       " 'poor_lighte': 797,\n",
       " 'potential': 798,\n",
       " 'prescribed': 799,\n",
       " 'product': 800,\n",
       " 'protein_total': 801,\n",
       " 'psa': 802,\n",
       " 'psych': 803,\n",
       " 'pyloru': 804,\n",
       " 'radiculopathy': 805,\n",
       " 'read': 806,\n",
       " 'reading': 807,\n",
       " 'rectal': 808,\n",
       " 'relationship': 809,\n",
       " 'renal': 810,\n",
       " 'residual': 811,\n",
       " 'restart': 812,\n",
       " 'risk': 813,\n",
       " 'sameer': 814,\n",
       " 'screening': 815,\n",
       " 'separated': 816,\n",
       " 'septated_cyst': 817,\n",
       " 'service': 818,\n",
       " 'sharma': 819,\n",
       " 'shot_liquor': 820,\n",
       " 'simple': 821,\n",
       " 'site': 822,\n",
       " 'staff': 823,\n",
       " 'strain': 824,\n",
       " 'stricture': 825,\n",
       " 'subsequent': 826,\n",
       " 'suntime': 827,\n",
       " 'supplement': 828,\n",
       " 'symptom': 829,\n",
       " 'team': 830,\n",
       " 'therapy': 831,\n",
       " 'thought_process': 832,\n",
       " 'transportation': 833,\n",
       " 'trunk': 834,\n",
       " 'undergo': 835,\n",
       " 'unexplained': 836,\n",
       " 'unsteady_long': 837,\n",
       " 'update': 838,\n",
       " 'usual': 839,\n",
       " 'work': 840,\n",
       " 'acid': 841,\n",
       " 'activate': 842,\n",
       " 'affect': 843,\n",
       " 'alendronate': 844,\n",
       " 'ampicillin': 845,\n",
       " 'annually': 846,\n",
       " 'asthma': 847,\n",
       " 'beee': 848,\n",
       " 'beta_block': 849,\n",
       " 'bilateral': 850,\n",
       " 'bite': 851,\n",
       " 'boost_ensure': 852,\n",
       " 'breathe': 853,\n",
       " 'bronchoscopy': 854,\n",
       " 'cacb': 855,\n",
       " 'calorie_counte': 856,\n",
       " 'carry': 857,\n",
       " 'chart': 858,\n",
       " 'cigarette': 859,\n",
       " 'citracal': 860,\n",
       " 'citrate': 861,\n",
       " 'cont': 862,\n",
       " 'crackle': 863,\n",
       " 'daughter': 864,\n",
       " 'daugther': 865,\n",
       " 'ddx_include': 866,\n",
       " 'diagnose': 867,\n",
       " 'diffuse': 868,\n",
       " 'eater': 869,\n",
       " 'endo': 870,\n",
       " 'estab': 871,\n",
       " 'excision': 872,\n",
       " 'ext_equally': 873,\n",
       " 'external': 874,\n",
       " 'fibrosis': 875,\n",
       " 'fosamax': 876,\n",
       " 'function': 877,\n",
       " 'hold': 878,\n",
       " 'imaging': 879,\n",
       " 'intake': 880,\n",
       " 'isease': 881,\n",
       " 'jean': 882,\n",
       " 'kyphoplasty': 883,\n",
       " 'lat': 884,\n",
       " 'mood': 885,\n",
       " 'mother': 886,\n",
       " 'movement': 887,\n",
       " 'nutrition': 888,\n",
       " 'occasionally': 889,\n",
       " 'osteoporosis': 890,\n",
       " 'pende': 891,\n",
       " 'point': 892,\n",
       " 'polymyx': 893,\n",
       " 'polymyxin': 894,\n",
       " 'priority': 895,\n",
       " 'record': 896,\n",
       " 'remote': 897,\n",
       " 'shaky': 898,\n",
       " 'shoe': 899,\n",
       " 'sinus_tach': 900,\n",
       " 'slow': 901,\n",
       " 'small': 902,\n",
       " 'specialty': 903,\n",
       " 'strict': 904,\n",
       " 'teenage': 905,\n",
       " 'tsh': 906,\n",
       " 'unknown': 907,\n",
       " 'weekly': 908,\n",
       " 'weely': 909,\n",
       " 'wine': 910,\n",
       " 'zolendronic': 911,\n",
       " 'anca': 912,\n",
       " 'caution': 913,\n",
       " 'copmfression': 914,\n",
       " 'diary': 915,\n",
       " 'dz': 916,\n",
       " 'fungal': 917,\n",
       " 'ground_glass': 918,\n",
       " 'guide': 919,\n",
       " 'inflammatory': 920,\n",
       " 'intraabd': 921,\n",
       " 'nodular': 922,\n",
       " 'obvious': 923,\n",
       " 'osh_recs': 924,\n",
       " 'pet': 925,\n",
       " 'prednisone': 926,\n",
       " 'process': 927,\n",
       " 'rll': 928,\n",
       " 'roughly': 929,\n",
       " 'short': 930,\n",
       " 'taper': 931,\n",
       " 'tramadol': 932,\n",
       " 'worsening': 933,\n",
       " 'appetite': 934,\n",
       " 'bronch': 935,\n",
       " 'colonscopy': 936,\n",
       " 'compound': 937,\n",
       " 'considerr': 938,\n",
       " 'formal': 939,\n",
       " 'major': 940,\n",
       " 'malnutrtion': 941,\n",
       " 'osh_rec': 942,\n",
       " 'pred_taper': 943,\n",
       " 'rbeathe': 944,\n",
       " 'suppress': 945,\n",
       " 'tomorrow': 946,\n",
       " 'treatement': 947,\n",
       " 'wise': 948,\n",
       " 'bleed': 949,\n",
       " 'blue': 950,\n",
       " 'chinese': 951,\n",
       " 'cold_sore': 952,\n",
       " 'counsel': 953,\n",
       " 'egd': 954,\n",
       " 'etiology': 955,\n",
       " 'exercise': 956,\n",
       " 'facial': 957,\n",
       " 'frequency': 958,\n",
       " 'hurt': 959,\n",
       " 'longstanding': 960,\n",
       " 'losartan': 961,\n",
       " 'md': 962,\n",
       " 'nourished': 963,\n",
       " 'numb': 964,\n",
       " 'oxygen': 965,\n",
       " 'pareneoplastic': 966,\n",
       " 'patanol_opht': 967,\n",
       " 'ruth_lyle': 968,\n",
       " 'salmeterol': 969,\n",
       " 'scope': 970,\n",
       " 'shot': 971,\n",
       " 'shoulder': 972,\n",
       " 'soln': 973,\n",
       " 'spasm': 974,\n",
       " 'steroid': 975,\n",
       " 'swelling': 976,\n",
       " 'tbcr': 977,\n",
       " 'toe': 978,\n",
       " 'trig_nhdl': 979,\n",
       " 'tsh_frt': 980,\n",
       " 'upset': 981,\n",
       " 'wear': 982,\n",
       " 'adjustment': 983,\n",
       " 'anxiety': 984,\n",
       " 'calf': 985,\n",
       " 'continual': 986,\n",
       " 'depressed': 987,\n",
       " 'difficult': 988,\n",
       " 'disorder': 989,\n",
       " 'diverticulosis': 990,\n",
       " 'drain': 991,\n",
       " 'elbow': 992,\n",
       " 'elevation': 993,\n",
       " 'exudative': 994,\n",
       " 'lacrimal_gland': 995,\n",
       " 'lumpectomy': 996,\n",
       " 'manifestation': 997,\n",
       " 'mellitus': 998,\n",
       " 'minimally': 999,\n",
       " ...}"
      ]
     },
     "execution_count": 37,
     "metadata": {},
     "output_type": "execute_result"
    }
   ],
   "source": [
    "id2word.token2id"
   ]
  },
  {
   "cell_type": "code",
   "execution_count": null,
   "metadata": {
    "id": "Y1k8c133oJIc"
   },
   "outputs": [],
   "source": [
    "# Create Corpus: Term Document Frequency\n",
    "corpus = [id2word.doc2bow(text) for text in data_ready]"
   ]
  },
  {
   "cell_type": "code",
   "execution_count": null,
   "metadata": {
    "colab": {
     "base_uri": "https://localhost:8080/"
    },
    "executionInfo": {
     "elapsed": 342,
     "status": "ok",
     "timestamp": 1693083787431,
     "user": {
      "displayName": "Mohammad AzariJafari",
      "userId": "06893572588162759360"
     },
     "user_tz": -210
    },
    "id": "ta5T3P-ephBH",
    "outputId": "36330e4c-1a98-4134-caba-fe043b3215d0"
   },
   "outputs": [
    {
     "data": {
      "text/plain": [
       "177"
      ]
     },
     "execution_count": 41,
     "metadata": {},
     "output_type": "execute_result"
    }
   ],
   "source": [
    "len(data_ready[0])"
   ]
  },
  {
   "cell_type": "code",
   "execution_count": null,
   "metadata": {
    "colab": {
     "base_uri": "https://localhost:8080/"
    },
    "executionInfo": {
     "elapsed": 330,
     "status": "ok",
     "timestamp": 1693083830503,
     "user": {
      "displayName": "Mohammad AzariJafari",
      "userId": "06893572588162759360"
     },
     "user_tz": -210
    },
    "id": "AmKhnQDAqL2b",
    "outputId": "a97f646c-5cd5-4912-fe3e-5eb9c960fb5d"
   },
   "outputs": [
    {
     "data": {
      "text/plain": [
       "120"
      ]
     },
     "execution_count": 42,
     "metadata": {},
     "output_type": "execute_result"
    }
   ],
   "source": [
    "len(set(data_ready[0]))"
   ]
  },
  {
   "cell_type": "code",
   "execution_count": null,
   "metadata": {
    "colab": {
     "base_uri": "https://localhost:8080/"
    },
    "executionInfo": {
     "elapsed": 342,
     "status": "ok",
     "timestamp": 1693084778256,
     "user": {
      "displayName": "Mohammad AzariJafari",
      "userId": "06893572588162759360"
     },
     "user_tz": -210
    },
    "id": "nPKqsu1pt1jG",
    "outputId": "13fdd9a1-7a0d-415d-c167-95e7e85033f2"
   },
   "outputs": [
    {
     "data": {
      "text/plain": [
       "120"
      ]
     },
     "execution_count": 59,
     "metadata": {},
     "output_type": "execute_result"
    }
   ],
   "source": [
    "len(corpus[0])"
   ]
  },
  {
   "cell_type": "code",
   "execution_count": null,
   "metadata": {
    "colab": {
     "base_uri": "https://localhost:8080/"
    },
    "executionInfo": {
     "elapsed": 375,
     "status": "ok",
     "timestamp": 1693083940715,
     "user": {
      "displayName": "Mohammad AzariJafari",
      "userId": "06893572588162759360"
     },
     "user_tz": -210
    },
    "id": "QPHnyudyqmII",
    "outputId": "a66cb875-104b-4f14-bc62-49a7707a6310"
   },
   "outputs": [
    {
     "name": "stdout",
     "output_type": "stream",
     "text": [
      "['telehealth', 'video', 'visit', 'conduct', 'encounter', 'epic', 'live', 'face', 'locate', 'locate', 'state', 'encounter', 'locate', 'clinic', 'prior', 'interview', 'discuss', 'visit', 'conduct', 'office', 'visit', 'offer', 'option', 'schedule', 'encounter', 'visit', 'encounter', 'total', 'minute', 'achille_salerno', 'male', 'cva', 'polio', 'htn', 'prostate', 'colon', 'today', 'leg', 'ulcer', 'concern', 'shallow', 'open', 'ulcer', 'leg', 'mild', 'pain', 'occ', 'drainage', 'redness', 'leg', 'swell', 'daily', 'issue', 'bed', 'receive', 'bed', 'bed', 'spend', 'couple', 'hour', 'current', 'outpatient', 'medication', 'medication', 'daily', 'daily', 'daily', 'daily', 'apply', 'layer', 'skin', 'face', 'ear', 'arm', 'hand', 'bid', 'week', 'avoid', 'daily', 'tab', 'mouth', 'daily', 'mouth', 'tab', 'daily', 'breakfast', 'dinner', 'complex', 'cap', 'bid', 'insulin', 'glargine', 'insulin', 'glargine', 'unit', 'inject', 'unit', 'skin', 'tab', 'mouth', 'day', 'meal', 'daily', 'omega', 'daily', 'capsule', 'mouth', 'bedtime', 'ointment', 'apply', 'layer', 'skin', 'groin', 'normal', 'skin', 'current', 'facility', 'administer', 'medication', 'visit', 'physical', 'exam', 'appearance', 'male', 'sit', 'comfortably', 'extremity', 'rle', 'edema', 'low', 'leg', 'round', 'superficial', 'ulcer', 'visit', 'speak', 'note', 'blanch', 'hot', 'agreeable', 'priscilla', 'place', 'assessment', 'plan', 'chronic', 'edema', 'partly', 'bed', 'night', 'long', 'discussion', 'weak', 'bed', 'bed', 'stay', 'couple', 'hour', 'advise', 'stay', 'bed', 'overnight', 'elevate', 'day', 'advise', 'increase', 'strength', 'decline', 'worry', 'covid', 'agreeable', 'unna_boot', 'wound', 'forward', 'clear', 'role', 'abx', 'monitor']\n"
     ]
    }
   ],
   "source": [
    "print(data_ready[0])"
   ]
  },
  {
   "cell_type": "code",
   "execution_count": null,
   "metadata": {
    "colab": {
     "base_uri": "https://localhost:8080/"
    },
    "executionInfo": {
     "elapsed": 316,
     "status": "ok",
     "timestamp": 1693084102457,
     "user": {
      "displayName": "Mohammad AzariJafari",
      "userId": "06893572588162759360"
     },
     "user_tz": -210
    },
    "id": "1z6lgqfqq15O",
    "outputId": "38500ff4-101b-45c1-c272-6decbd564844"
   },
   "outputs": [
    {
     "data": {
      "text/plain": [
       "True"
      ]
     },
     "execution_count": 50,
     "metadata": {},
     "output_type": "execute_result"
    }
   ],
   "source": [
    "'wound' in data_ready[0]"
   ]
  },
  {
   "cell_type": "code",
   "execution_count": null,
   "metadata": {
    "colab": {
     "base_uri": "https://localhost:8080/"
    },
    "executionInfo": {
     "elapsed": 323,
     "status": "ok",
     "timestamp": 1693084153014,
     "user": {
      "displayName": "Mohammad AzariJafari",
      "userId": "06893572588162759360"
     },
     "user_tz": -210
    },
    "id": "n9fkz-RirZn7",
    "outputId": "a21e9cbc-cf90-4ae0-fa2f-2e55585f90b5"
   },
   "outputs": [
    {
     "data": {
      "text/plain": [
       "True"
      ]
     },
     "execution_count": 52,
     "metadata": {},
     "output_type": "execute_result"
    }
   ],
   "source": [
    "'afternoon' in data_ready[0]"
   ]
  },
  {
   "cell_type": "code",
   "execution_count": null,
   "metadata": {
    "colab": {
     "base_uri": "https://localhost:8080/"
    },
    "executionInfo": {
     "elapsed": 510,
     "status": "ok",
     "timestamp": 1693084186014,
     "user": {
      "displayName": "Mohammad AzariJafari",
      "userId": "06893572588162759360"
     },
     "user_tz": -210
    },
    "id": "Glk7GNSGrlUD",
    "outputId": "dfcbc778-0c49-4399-de5c-e11a8f143eea"
   },
   "outputs": [
    {
     "name": "stdout",
     "output_type": "stream",
     "text": [
      "[(0, 1), (1, 1), (2, 1), (3, 2), (4, 2), (5, 1), (6, 2), (7, 1), (8, 1), (9, 1), (10, 7), (11, 1), (12, 2), (13, 1), (14, 1), (15, 1), (16, 1), (17, 1), (18, 1), (19, 1), (20, 1), (21, 1), (22, 1), (23, 1), (24, 2), (25, 2), (26, 1), (27, 2), (28, 1), (29, 10), (30, 2), (31, 1), (32, 1), (33, 1), (34, 1), (35, 1), (36, 1), (37, 2), (38, 1), (39, 4), (40, 1), (41, 1), (42, 1), (43, 2), (44, 1), (45, 1), (46, 2), (47, 1), (48, 1), (49, 1), (50, 2), (51, 1), (52, 1), (53, 1), (54, 2), (55, 1), (56, 1), (57, 2), (58, 4), (59, 1), (60, 3), (61, 1), (62, 1), (63, 2), (64, 1), (65, 3), (66, 1), (67, 1), (68, 1), (69, 4), (70, 1), (71, 1), (72, 1), (73, 1), (74, 1), (75, 1), (76, 1), (77, 1), (78, 1), (79, 1), (80, 1), (81, 1), (82, 1), (83, 1), (84, 1), (85, 1), (86, 1), (87, 1), (88, 1), (89, 1), (90, 1), (91, 1), (92, 1), (93, 1), (94, 1), (95, 1), (96, 1), (97, 1), (98, 1), (99, 4), (100, 1), (101, 1), (102, 1), (103, 2), (104, 1), (105, 1), (106, 1), (107, 3), (108, 1), (109, 1), (110, 1), (111, 3), (112, 2), (113, 1), (114, 1), (115, 6), (116, 1), (117, 1), (118, 1), (119, 1)]\n"
     ]
    }
   ],
   "source": [
    "print(corpus[0])"
   ]
  },
  {
   "cell_type": "code",
   "execution_count": null,
   "metadata": {
    "colab": {
     "base_uri": "https://localhost:8080/"
    },
    "executionInfo": {
     "elapsed": 348,
     "status": "ok",
     "timestamp": 1693084164355,
     "user": {
      "displayName": "Mohammad AzariJafari",
      "userId": "06893572588162759360"
     },
     "user_tz": -210
    },
    "id": "qfpFMX9lrg3f",
    "outputId": "327a3fcd-87bf-4b12-e9a0-e79f416d794e"
   },
   "outputs": [
    {
     "data": {
      "text/plain": [
       "True"
      ]
     },
     "execution_count": 53,
     "metadata": {},
     "output_type": "execute_result"
    }
   ],
   "source": [
    "'afternoon' in data_ready[1]"
   ]
  },
  {
   "cell_type": "code",
   "execution_count": null,
   "metadata": {
    "colab": {
     "base_uri": "https://localhost:8080/"
    },
    "executionInfo": {
     "elapsed": 335,
     "status": "ok",
     "timestamp": 1693084184021,
     "user": {
      "displayName": "Mohammad AzariJafari",
      "userId": "06893572588162759360"
     },
     "user_tz": -210
    },
    "id": "9t-faloopWJU",
    "outputId": "0af1d0d5-230a-4c02-ef47-39ff67f63e55"
   },
   "outputs": [
    {
     "name": "stdout",
     "output_type": "stream",
     "text": [
      "[(2, 2), (5, 1), (6, 1), (7, 1), (8, 1), (11, 1), (15, 4), (17, 2), (21, 1), (27, 3), (29, 13), (30, 3), (37, 3), (41, 1), (42, 1), (44, 2), (50, 3), (52, 2), (54, 3), (58, 2), (62, 2), (64, 1), (65, 4), (66, 1), (68, 2), (69, 7), (72, 1), (73, 1), (80, 1), (82, 6), (84, 1), (85, 2), (86, 1), (91, 1), (98, 2), (106, 1), (107, 10), (109, 2), (112, 4), (115, 2), (117, 2), (120, 1), (121, 1), (122, 1), (123, 1), (124, 1), (125, 1), (126, 2), (127, 2), (128, 1), (129, 1), (130, 2), (131, 1), (132, 2), (133, 2), (134, 2), (135, 1), (136, 1), (137, 2), (138, 1), (139, 1), (140, 1), (141, 2), (142, 2), (143, 3), (144, 1), (145, 1), (146, 2), (147, 2), (148, 1), (149, 1), (150, 1), (151, 1), (152, 1), (153, 1), (154, 1), (155, 1), (156, 1), (157, 2), (158, 1), (159, 1), (160, 1), (161, 1), (162, 1), (163, 2), (164, 1), (165, 1), (166, 1), (167, 1), (168, 2), (169, 1), (170, 2), (171, 1), (172, 1), (173, 2), (174, 1), (175, 2), (176, 1), (177, 1), (178, 1), (179, 1), (180, 1), (181, 1), (182, 3), (183, 1), (184, 1), (185, 3), (186, 1), (187, 1), (188, 1), (189, 1), (190, 1), (191, 1), (192, 1), (193, 1), (194, 1), (195, 2), (196, 1), (197, 1), (198, 2), (199, 1), (200, 1), (201, 1), (202, 1), (203, 1), (204, 1), (205, 1), (206, 1), (207, 2), (208, 1), (209, 1), (210, 1), (211, 1), (212, 3), (213, 1), (214, 2), (215, 1), (216, 1), (217, 1), (218, 1), (219, 1), (220, 1), (221, 1), (222, 1), (223, 2), (224, 1), (225, 3), (226, 2), (227, 1), (228, 1), (229, 1)]\n"
     ]
    }
   ],
   "source": [
    "print(corpus[1])"
   ]
  },
  {
   "cell_type": "code",
   "execution_count": null,
   "metadata": {
    "id": "8EoJR-7phbuq"
   },
   "outputs": [],
   "source": [
    "import pickle\n",
    "with open(\"/tmarkossian/212900/cati/id2word.pkl\", 'wb') as f:\n",
    "   pickle.dump(id2word, f)"
   ]
  },
  {
   "cell_type": "code",
   "execution_count": null,
   "metadata": {
    "id": "k8LgNVk4XOs-"
   },
   "outputs": [],
   "source": [
    "import pickle\n",
    "with open('/tmarkossian/212900/cati/corpus.pkl', 'wb') as f:\n",
    "   pickle.dump(corpus, f)"
   ]
  }
 ],
 "metadata": {
  "colab": {
   "provenance": []
  },
  "kernelspec": {
   "display_name": "Python 3 (ipykernel)",
   "language": "python",
   "name": "python3"
  },
  "language_info": {
   "codemirror_mode": {
    "name": "ipython",
    "version": 3
   },
   "file_extension": ".py",
   "mimetype": "text/x-python",
   "name": "python",
   "nbconvert_exporter": "python",
   "pygments_lexer": "ipython3",
   "version": "3.10.11"
  }
 },
 "nbformat": 4,
 "nbformat_minor": 1
}
