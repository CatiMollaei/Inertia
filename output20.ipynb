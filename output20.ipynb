{
  "nbformat": 4,
  "nbformat_minor": 0,
  "metadata": {
    "colab": {
      "provenance": []
    },
    "kernelspec": {
      "name": "python3",
      "display_name": "Python 3"
    },
    "language_info": {
      "name": "python"
    }
  },
  "cells": [
    {
      "cell_type": "code",
      "execution_count": null,
      "metadata": {
        "id": "EM-Uiw14YpwN"
      },
      "outputs": [],
      "source": [
        "import pandas as pd\n",
        "import numpy as np"
      ]
    },
    {
      "cell_type": "markdown",
      "source": [
        "## lda sum2"
      ],
      "metadata": {
        "id": "gSsrYDgujorF"
      }
    },
    {
      "cell_type": "code",
      "source": [
        "df1 = pd.read_excel(\"/content/drive/MyDrive/mollaei extra data/lda_output.xlsx\")"
      ],
      "metadata": {
        "id": "Eh_F8cN4Yw_H"
      },
      "execution_count": null,
      "outputs": []
    },
    {
      "cell_type": "code",
      "source": [
        "1/248"
      ],
      "metadata": {
        "colab": {
          "base_uri": "https://localhost:8080/"
        },
        "id": "VJgl3VfHCmkA",
        "outputId": "193dfa85-6f9d-4cef-f857-fa35c8e48ab2"
      },
      "execution_count": null,
      "outputs": [
        {
          "output_type": "execute_result",
          "data": {
            "text/plain": [
              "0.004032258064516129"
            ]
          },
          "metadata": {},
          "execution_count": 10
        }
      ]
    },
    {
      "cell_type": "code",
      "source": [
        "sum2 = []\n",
        "for item in df1.drop(['Unnamed: 0', 'prog_note_id', 'txt', 'SUM', 'STD', '1/STD', 'log(1/STD)'], axis=1).values:\n",
        "    temp = []\n",
        "    for i in item:\n",
        "        if i>(1/248):\n",
        "            temp.append(i)\n",
        "    sum2.append(np.sum(temp))"
      ],
      "metadata": {
        "id": "_phTb6TTCF-5"
      },
      "execution_count": null,
      "outputs": []
    },
    {
      "cell_type": "code",
      "source": [
        "df1['sum2'] = sum2"
      ],
      "metadata": {
        "id": "3a34jO5ICFzR"
      },
      "execution_count": null,
      "outputs": []
    },
    {
      "cell_type": "code",
      "source": [
        "temp = list(np.arange(20)) + list(np.arange(-20, 0))\n",
        "lda_sum2_output20 = df1.drop('Unnamed: 0', axis=1)[df1['STD']!=0][df1['sum2']!=0].sort_values(by=['sum2'], ascending=True).iloc[temp]\n",
        "lda_sum2_output20.to_excel(\"/content/drive/MyDrive/mollaei extra data/output20_lda_sum2.xlsx\")"
      ],
      "metadata": {
        "colab": {
          "base_uri": "https://localhost:8080/"
        },
        "id": "d4NAdKboFVro",
        "outputId": "14275fa8-eda6-462c-d2d3-6f89f7bddc58"
      },
      "execution_count": null,
      "outputs": [
        {
          "output_type": "stream",
          "name": "stderr",
          "text": [
            "<ipython-input-31-b9afb9915037>:2: UserWarning: Boolean Series key will be reindexed to match DataFrame index.\n",
            "  lda_sum2_output20 = df1.drop('Unnamed: 0', axis=1)[df1['STD']!=0][df1['sum2']!=0].sort_values(by=['sum2'], ascending=True).iloc[temp]\n"
          ]
        }
      ]
    },
    {
      "cell_type": "markdown",
      "source": [
        "##lda 1/std"
      ],
      "metadata": {
        "id": "nZLUqqwWGGRx"
      }
    },
    {
      "cell_type": "code",
      "source": [
        "temp = list(np.arange(20)) + list(np.arange(-20, 0))\n",
        "lda_1std_output20 = df1.drop('Unnamed: 0', axis=1)[df1['STD']!=0].sort_values(by=['1/STD'], ascending=True).iloc[temp]\n",
        "lda_1std_output20.to_excel(\"/content/drive/MyDrive/mollaei extra data/output20_lda_1std.xlsx\")"
      ],
      "metadata": {
        "id": "6GVLH-5kcmWg"
      },
      "execution_count": null,
      "outputs": []
    },
    {
      "cell_type": "markdown",
      "source": [
        "##lda sum"
      ],
      "metadata": {
        "id": "_xGexl0pj_LJ"
      }
    },
    {
      "cell_type": "code",
      "source": [
        "temp = list(np.arange(20)) + list(np.arange(-20, 0))\n",
        "lda_sum_output20 = df1.iloc[temp]\n",
        "lda_sum_output20.to_excel(\"/content/drive/MyDrive/mollaei extra data/output20_lda_sum.xlsx\")"
      ],
      "metadata": {
        "id": "cv48eJKdiB0C"
      },
      "execution_count": null,
      "outputs": []
    },
    {
      "cell_type": "markdown",
      "source": [
        "##bertopic 1/std"
      ],
      "metadata": {
        "id": "hSwFe05Kjuvp"
      }
    },
    {
      "cell_type": "code",
      "source": [
        "df = pd.read_excel(\"/content/drive/MyDrive/mollaei extra data/bertopic_output.xlsx\")"
      ],
      "metadata": {
        "id": "VwxZv4RQbrF0"
      },
      "execution_count": null,
      "outputs": []
    },
    {
      "cell_type": "code",
      "source": [
        "temp = list(np.arange(20)) + list(np.arange(-20, 0))\n",
        "bertopic_1std_output20 = df.drop('Unnamed: 0', axis=1)[df1['STD']!=0].sort_values(by=['1/STD'], ascending=True).iloc[temp]\n",
        "bertopic_1std_output20.to_excel(\"/content/drive/MyDrive/mollaei extra data/output20_bertopic_1std.xlsx\")"
      ],
      "metadata": {
        "id": "t9__lj6th5vU"
      },
      "execution_count": null,
      "outputs": []
    },
    {
      "cell_type": "markdown",
      "source": [
        "##bertopic std"
      ],
      "metadata": {
        "id": "gLR4BlVNR22I"
      }
    },
    {
      "cell_type": "code",
      "source": [
        "temp = list(np.arange(20)) + list(np.arange(-20, 0))\n",
        "bertopic_std_output20 = df.drop('Unnamed: 0', axis=1)[df1['STD']!=0].sort_values(by=['STD'], ascending=True).iloc[temp]\n",
        "bertopic_std_output20.to_excel(\"/content/drive/MyDrive/mollaei extra data/output20_bertopic_std.xlsx\")"
      ],
      "metadata": {
        "id": "njuM5VCMNIGL"
      },
      "execution_count": null,
      "outputs": []
    },
    {
      "cell_type": "markdown",
      "source": [
        "##bertopic sum"
      ],
      "metadata": {
        "id": "KZdiVPCgR9Eo"
      }
    },
    {
      "cell_type": "code",
      "source": [
        "temp = list(np.arange(20)) + list(np.arange(-20, 0))\n",
        "bertopic_sum_output20 = df.drop('Unnamed: 0', axis=1)[df1['STD']!=0].sort_values(by=['SUM'], ascending=True).iloc[temp]\n",
        "bertopic_sum_output20.to_excel(\"/content/drive/MyDrive/mollaei extra data/output20_bertopic_sum.xlsx\")"
      ],
      "metadata": {
        "id": "DB61lIpgiYh1"
      },
      "execution_count": null,
      "outputs": []
    }
  ]
}